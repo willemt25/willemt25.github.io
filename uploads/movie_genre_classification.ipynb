{
  "nbformat": 4,
  "nbformat_minor": 0,
  "metadata": {
    "colab": {
      "name": "Submission.ipynb",
      "provenance": [],
      "collapsed_sections": [
        "WMHzRrdLmp1E",
        "OBAe_EVdoeQN",
        "HbdkziGxo-OZ",
        "gLEaN5Abs6dv",
        "8Nl9jnkxeJ9w",
        "0KUvIe8Jwhqt",
        "O9jmaIOZxccG",
        "DR-glMibySJo",
        "-7gd01U8y_Kf"
      ]
    },
    "kernelspec": {
      "name": "python3",
      "display_name": "Python 3"
    },
    "language_info": {
      "name": "python"
    }
  },
  "cells": [
    {
      "cell_type": "code",
      "execution_count": null,
      "metadata": {
        "id": "hr92Hx3RZZXM"
      },
      "outputs": [],
      "source": [
        ""
      ]
    },
    {
      "cell_type": "markdown",
      "source": [
        "## **Data Preprocessing**"
      ],
      "metadata": {
        "id": "XfhjP1BMZy9Q"
      }
    },
    {
      "cell_type": "code",
      "source": [
        "#Imports\n",
        "import pandas as pd\n",
        "import string\n",
        "import nltk\n",
        "from nltk.corpus import stopwords\n",
        "from nltk.tokenize import word_tokenize\n",
        "nltk.download('stopwords')\n",
        "nltk.download('punkt')"
      ],
      "metadata": {
        "colab": {
          "base_uri": "https://localhost:8080/"
        },
        "id": "yZYALSC9Z9g8",
        "outputId": "468ab54d-ab95-4f13-99ac-4898fc1817c9"
      },
      "execution_count": null,
      "outputs": [
        {
          "output_type": "stream",
          "name": "stdout",
          "text": [
            "[nltk_data] Downloading package stopwords to /root/nltk_data...\n",
            "[nltk_data]   Unzipping corpora/stopwords.zip.\n",
            "[nltk_data] Downloading package punkt to /root/nltk_data...\n",
            "[nltk_data]   Unzipping tokenizers/punkt.zip.\n"
          ]
        },
        {
          "output_type": "execute_result",
          "data": {
            "text/plain": [
              "True"
            ]
          },
          "metadata": {},
          "execution_count": 2
        }
      ]
    },
    {
      "cell_type": "markdown",
      "source": [
        "Use the cell below to read in the correct data file if running in Google Colab"
      ],
      "metadata": {
        "id": "zO28vVbmaxaw"
      }
    },
    {
      "cell_type": "code",
      "source": [
        "#Read in the dataset (must have it downloaded and in the same folder first)\n",
        "from google.colab import files\n",
        "uploaded = files.upload()"
      ],
      "metadata": {
        "id": "BJWo9CyjavRV",
        "colab": {
          "resources": {
            "http://localhost:8080/nbextensions/google.colab/files.js": {
              "data": "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",
              "ok": true,
              "headers": [
                [
                  "content-type",
                  "application/javascript"
                ]
              ],
              "status": 200,
              "status_text": ""
            }
          },
          "base_uri": "https://localhost:8080/",
          "height": 75
        },
        "outputId": "400def84-e5cd-44e8-9a32-b734f5bb53ab"
      },
      "execution_count": null,
      "outputs": [
        {
          "output_type": "display_data",
          "data": {
            "text/plain": [
              "<IPython.core.display.HTML object>"
            ],
            "text/html": [
              "\n",
              "     <input type=\"file\" id=\"files-9a17b6d7-c727-43ed-81c2-b05282c94ae9\" name=\"files[]\" multiple disabled\n",
              "        style=\"border:none\" />\n",
              "     <output id=\"result-9a17b6d7-c727-43ed-81c2-b05282c94ae9\">\n",
              "      Upload widget is only available when the cell has been executed in the\n",
              "      current browser session. Please rerun this cell to enable.\n",
              "      </output>\n",
              "      <script src=\"/nbextensions/google.colab/files.js\"></script> "
            ]
          },
          "metadata": {}
        },
        {
          "output_type": "stream",
          "name": "stdout",
          "text": [
            "Saving wiki_movie_plots_deduped.csv to wiki_movie_plots_deduped.csv\n"
          ]
        }
      ]
    },
    {
      "cell_type": "code",
      "source": [
        "movies = pd.read_csv('wiki_movie_plots_deduped.csv')"
      ],
      "metadata": {
        "id": "r2pFNNwMa343"
      },
      "execution_count": null,
      "outputs": []
    },
    {
      "cell_type": "code",
      "source": [
        "#Remove movies that don't originate from primarily English-speaking countries\n",
        "origins = ['American','British','Australian','Canadian']\n",
        "movies = movies[movies['Origin/Ethnicity'].isin(origins)]"
      ],
      "metadata": {
        "id": "LbQQT-2ccDFr"
      },
      "execution_count": null,
      "outputs": []
    },
    {
      "cell_type": "code",
      "source": [
        "#Only keep movies from the 9 top genres\n",
        "top_genres = ['western','comedy','drama','adventure','horror','thriller','musical','action','science fiction']\n",
        "movies = movies[movies['Genre'].isin(top_genres)]"
      ],
      "metadata": {
        "id": "otbnD5jscIrM"
      },
      "execution_count": null,
      "outputs": []
    },
    {
      "cell_type": "code",
      "source": [
        "#Only keep each movie's genre and plot description\n",
        "movie_df = movies[['Genre','Plot']]"
      ],
      "metadata": {
        "id": "CitLojoxctdr"
      },
      "execution_count": null,
      "outputs": []
    },
    {
      "cell_type": "markdown",
      "source": [
        "#### **Trimming plots**\n",
        "The functions below outline the three different plot trimming approaches attempted - one that ignores stopwords, one that removes stopwords, and one that removes stopwords and names"
      ],
      "metadata": {
        "id": "_jhKVCWFkFX1"
      }
    },
    {
      "cell_type": "code",
      "source": [
        "def trim_plot_leave_stopwords(plot):\n",
        "  plot = plot.translate(str.maketrans('', '', string.punctuation))\n",
        "  plot = plot.lower()\n",
        "  remove_digits = str.maketrans('', '', string.digits)\n",
        "  plot = plot.translate(remove_digits)\n",
        "  plot = \" \".join(plot.split())\n",
        "\n",
        "  word_tokens = word_tokenize(plot)\n",
        "  filtered_plot = [w for w in word_tokens]\n",
        "\n",
        "  return filtered_plot"
      ],
      "metadata": {
        "id": "Q7pQg_OLkQHa"
      },
      "execution_count": null,
      "outputs": []
    },
    {
      "cell_type": "code",
      "source": [
        "def trim_plot(plot):\n",
        "  plot = plot.translate(str.maketrans('', '', string.punctuation))\n",
        "  plot = plot.lower()\n",
        "  remove_digits = str.maketrans('', '', string.digits)\n",
        "  plot = plot.translate(remove_digits)\n",
        "  plot = \" \".join(plot.split())\n",
        "\n",
        "  stop_words = set(stopwords.words('english'))\n",
        " \n",
        "  word_tokens = word_tokenize(plot)\n",
        "  filtered_plot = [w for w in word_tokens if not w.lower() in stop_words]\n",
        "\n",
        "  return filtered_plot"
      ],
      "metadata": {
        "id": "TVIfeia_kQJn"
      },
      "execution_count": null,
      "outputs": []
    },
    {
      "cell_type": "code",
      "source": [
        "def trim_plot_and_names(plot):\n",
        "  plot = \" \".join(plot.split())\n",
        "\n",
        "  plot_split = plot.split(' ')\n",
        "  for word_index in range(len(plot_split)):\n",
        "    word = plot_split[word_index]\n",
        "    if word[0].isupper() and word_index > 0 and plot_split[word_index-1][-1] != '.' and plot_split[word_index-1][-1] != '!' and plot_split[word_index-1][-1] != '?':\n",
        "      plot = plot.replace(word,'')\n",
        "  \n",
        "  plot = plot.translate(str.maketrans('', '', string.punctuation))\n",
        "  plot = plot.lower()\n",
        "  remove_digits = str.maketrans('', '', string.digits)\n",
        "  plot = plot.translate(remove_digits)\n",
        "  \n",
        "\n",
        "  stop_words = set(stopwords.words('english'))\n",
        " \n",
        "  word_tokens = word_tokenize(plot)\n",
        "  filtered_plot = [w for w in word_tokens if not w.lower() in stop_words]\n",
        "\n",
        "  return filtered_plot"
      ],
      "metadata": {
        "id": "Hde9Xgn9kYSa"
      },
      "execution_count": null,
      "outputs": []
    },
    {
      "cell_type": "code",
      "source": [
        "movie_df = movie_df.reset_index().drop(['index'],axis=1)"
      ],
      "metadata": {
        "id": "qx9478TRkyme"
      },
      "execution_count": null,
      "outputs": []
    },
    {
      "cell_type": "code",
      "source": [
        "#make dataset with trimmed plots, leaving stopwords in\n",
        "movie_df_with_stopwords = movie_df.copy()\n",
        "movie_df_with_stopwords['Plot'] = movie_df_with_stopwords['Plot'].apply(lambda x: trim_plot_leave_stopwords(x))"
      ],
      "metadata": {
        "id": "PNNV-diwk5Ak"
      },
      "execution_count": null,
      "outputs": []
    },
    {
      "cell_type": "code",
      "source": [
        "movie_df_stopwords_removed = movie_df.copy()\n",
        "movie_df_stopwords_removed['Plot'] = movie_df_stopwords_removed['Plot'].apply(lambda x: trim_plot(x))"
      ],
      "metadata": {
        "id": "oP1jlBmxk_A-"
      },
      "execution_count": null,
      "outputs": []
    },
    {
      "cell_type": "code",
      "source": [
        "#make dataset with trimmed plots, and names + stopwords removed\n",
        "movie_df_names_removed = movie_df.copy()\n",
        "movie_df_names_removed['WholePlot'] = movie_df_names_removed['Plot']\n",
        "movie_df_names_removed['Plot'] = movie_df_names_removed['Plot'].apply(lambda x: trim_plot_and_names(x))"
      ],
      "metadata": {
        "id": "vVMjtKDYk5Ds"
      },
      "execution_count": null,
      "outputs": []
    },
    {
      "cell_type": "code",
      "source": [
        "movie_df_stopwords_removed.to_csv('trimmed_movies.csv') \n",
        "movie_df_with_stopwords.to_csv('trimmed_movies_with_stopwords.csv') \n",
        "movie_df_names_removed.to_csv('trimmed_movies_no_names.csv') "
      ],
      "metadata": {
        "id": "dSL3ImFzk5Fz"
      },
      "execution_count": null,
      "outputs": []
    },
    {
      "cell_type": "markdown",
      "source": [
        "Run the following cell if using Google Colab"
      ],
      "metadata": {
        "id": "_IsBkHgPll9Z"
      }
    },
    {
      "cell_type": "code",
      "source": [
        "from google.colab import files\n",
        "files.download(\"trimmed_movies.csv\")\n",
        "files.download(\"trimmed_movies_with_stopwords.csv\")\n",
        "files.download(\"trimmed_movies_no_names.csv\")"
      ],
      "metadata": {
        "id": "21wYSOMwlocM"
      },
      "execution_count": null,
      "outputs": []
    },
    {
      "cell_type": "markdown",
      "source": [
        "From here on, these datasets will be used by reading in the data from these csvs we just created."
      ],
      "metadata": {
        "id": "w0yIEpm8l2sM"
      }
    },
    {
      "cell_type": "markdown",
      "source": [
        "## **Exploratory Data Analysis**"
      ],
      "metadata": {
        "id": "a8o9uDTBmbjD"
      }
    },
    {
      "cell_type": "code",
      "source": [
        "# Returns a two lists: one of the words, and one of their corresponding frequencies\n",
        "# Arguments:\n",
        "#    filt- Returns a filtered list (returns top 50 (default) words), set False for entire list\n",
        "#    top - specifies how many of the top words you want to return (filt must be set to True)\n",
        "#    ret_dict - returns a dictionary with words as the key, frequency as the value\n",
        "\n",
        "def word_freqs(df, filt = True, top = 50, ret_dict = False):\n",
        "    out = {}\n",
        "    for plot in df[\"PlotPreProcessed\"]:\n",
        "        for word in plot:\n",
        "            if word in out.keys():\n",
        "                out[word] = out[word] + 1\n",
        "            else:\n",
        "                out[word] = 1\n",
        "    out = {k: v for k, v in sorted(out.items(), key=lambda item: item[1], reverse = True)}\n",
        "    if ret_dict:\n",
        "        return out\n",
        "    words = [x for x in out.keys()]\n",
        "    freqs = [x for x in out.values()]\n",
        "    if filt:\n",
        "        words = words[:top]\n",
        "        freqs = freqs[:top]\n",
        "    return words, freqs"
      ],
      "metadata": {
        "id": "i0GPbK4M2pPb"
      },
      "execution_count": null,
      "outputs": []
    },
    {
      "cell_type": "code",
      "source": [
        "# Draws a plot, used for exploratory purposes\n",
        "# Arguments:\n",
        "#     words- words you want to plot\n",
        "#     freqs- the corresponding frequencies for these words\n",
        "#     title- desired title for plot\n",
        "import matplotlib.pyplot as plt\n",
        "from matplotlib.pyplot import figure\n",
        "def chart(words, freqs, title='title'):\n",
        "    figure(figsize=(8,8), dpi=200)\n",
        "    plt.bar(words,freqs)\n",
        "    plt.xticks(rotation = 80)\n",
        "    plt.title(title)\n",
        "    plt.show()"
      ],
      "metadata": {
        "id": "gqCS2ng22pLU"
      },
      "execution_count": null,
      "outputs": []
    },
    {
      "cell_type": "code",
      "source": [
        "# Cuts a dictionary to a specified list, used for exploratory purposes\n",
        "# Arguments:\n",
        "#     d- the dictionary you want to cut\n",
        "#     length - the length you want to dictionary to be\n",
        "def slice_d(d, length):\n",
        "    count = 0\n",
        "    out = {}\n",
        "    for x in d:\n",
        "        if count == length:\n",
        "            break\n",
        "        out[x] = d[x]\n",
        "        count+= 1\n",
        "    return out"
      ],
      "metadata": {
        "id": "Z_g5FAQ22pDq"
      },
      "execution_count": null,
      "outputs": []
    },
    {
      "cell_type": "code",
      "source": [
        "#Use earlier trim_plot logic to create lists the our word_freqs function will parse\n",
        "movie_df['PlotPreProcessed'] = movie_df['Plot'].apply(lambda x: trim_plot(x))\n",
        "# returns a dictionary of the entire corpus with frequency as values\n",
        "word_dict = word_freqs(movie_df, False, ret_dict = True)\n",
        "# create list of top 50 words and their frequencies \n",
        "words, freqs = word_freqs(movie_df, top = 15)\n",
        "chart(words, freqs, \"Frequency of Words in the Dataset\")"
      ],
      "metadata": {
        "colab": {
          "base_uri": "https://localhost:8080/",
          "height": 1000
        },
        "id": "9zvM9rNt2o8F",
        "outputId": "24838440-6a3a-4a8c-b744-aa542cf8dae9"
      },
      "execution_count": null,
      "outputs": [
        {
          "output_type": "display_data",
          "data": {
            "text/plain": [
              "<Figure size 1600x1600 with 1 Axes>"
            ],
            "image/png": "[encoded data removed]"
          },
          "metadata": {
            "needs_background": "light"
          }
        }
      ]
    },
    {
      "cell_type": "code",
      "source": [
        "#Filtering to western movies\n",
        "wwords, wfreqs = word_freqs(movie_df[movie_df[\"Genre\"] == \"western\"], top = 15)\n",
        "chart(wwords,wfreqs, \"Word Frequencies for Western Movies\")"
      ],
      "metadata": {
        "colab": {
          "base_uri": "https://localhost:8080/",
          "height": 1000
        },
        "id": "kcD57lRU2ozM",
        "outputId": "545ea981-352a-4260-cf94-62eaf024527a"
      },
      "execution_count": null,
      "outputs": [
        {
          "output_type": "display_data",
          "data": {
            "text/plain": [
              "<Figure size 1600x1600 with 1 Axes>"
            ],
            "image/png": "[encoded data removed]"
          },
          "metadata": {
            "needs_background": "light"
          }
        }
      ]
    },
    {
      "cell_type": "code",
      "source": [
        "# Graphs the proportion of the occurence of the word in western movies vs. all movies\n",
        "w = []\n",
        "p = []\n",
        "for x, y in zip(wwords,wfreqs):\n",
        "    w.append(x)\n",
        "    p.append(y/word_dict[x])\n",
        "chart(w, p, \"Proportion of Word appearing in a Western Plot over all Plots\")"
      ],
      "metadata": {
        "colab": {
          "base_uri": "https://localhost:8080/",
          "height": 1000
        },
        "id": "0Z7oLRbJ2omx",
        "outputId": "d371ba3c-440d-4cca-93da-e73245f47eac"
      },
      "execution_count": null,
      "outputs": [
        {
          "output_type": "display_data",
          "data": {
            "text/plain": [
              "<Figure size 1600x1600 with 1 Axes>"
            ],
            "image/png": "[encoded data removed]"
          },
          "metadata": {
            "needs_background": "light"
          }
        }
      ]
    },
    {
      "cell_type": "code",
      "source": [
        "# **** NOTE: THIS CODE WAS USED TO GENERATE THE HEATMAP. IT TAKES FOREVER TO RUN, AND COMPLETELY UNNECESSARY. ****\n",
        "out = pd.DataFrame(index=top_genres, columns=word_dict)\n",
        "out = out.fillna(0)\n",
        "western_dict = word_freqs(movie_df[movie_df[\"Genre\"] == 'western'], filt = False, ret_dict = True)\n",
        "comedy_dict = word_freqs(movie_df[movie_df[\"Genre\"] == 'comedy'], filt = False, ret_dict = True)\n",
        "drama_dict = word_freqs(movie_df[movie_df[\"Genre\"] == 'drama'], filt = False, ret_dict = True)\n",
        "adventure_dict = word_freqs(movie_df[movie_df[\"Genre\"] == 'adventure'], filt = False, ret_dict = True)\n",
        "horror_dict = word_freqs(movie_df[movie_df[\"Genre\"] == 'horror'], filt = False, ret_dict = True)\n",
        "thriller_dict = word_freqs(movie_df[movie_df[\"Genre\"] == 'thriller'], filt = False, ret_dict = True)\n",
        "musical_dict = word_freqs(movie_df[movie_df[\"Genre\"] == 'musical'], filt = False, ret_dict = True)\n",
        "action_dict = word_freqs(movie_df[movie_df[\"Genre\"] == 'action'], filt = False, ret_dict = True)\n",
        "scifi_dict = word_freqs(movie_df[movie_df[\"Genre\"] == 'science fiction'], filt = False, ret_dict = True)\n",
        "dicts = [western_dict, comedy_dict, drama_dict, adventure_dict, horror_dict, thriller_dict, musical_dict, action_dict, scifi_dict]\n",
        "count = 0\n",
        "for word, freq in word_dict.items():\n",
        "    col = []\n",
        "    for d in dicts:\n",
        "        col.append(d.get(word, 0)/freq)\n",
        "    out[word] = col\n",
        "    count += 1\n",
        "    if(count%1000 == 0):\n",
        "        print(count)\n",
        "wordlist = []\n",
        "for genre in top_genres:\n",
        "    words, freqs = word_freqs(movie_df[movie_df[\"Genre\"] == genre], top=5)\n",
        "    for word in words:\n",
        "        wordlist.append(word)\n",
        "temp = set(wordlist)\n",
        "wordlist = list(temp)\n",
        "a = out[wordlist]\n",
        "plt.figure(figsize=(30, 30), dpi=400)\n",
        "plt.imshow(a, cmap='gnuplot')\n",
        "plt.yticks(range(len(a)), labels = a.index.values)\n",
        "plt.xticks(range(len(a.columns)), labels = a.columns.values, rotation = 80)\n",
        "plt.colorbar()\n",
        "plt.show()"
      ],
      "metadata": {
        "id": "0aop4CRA5cu9"
      },
      "execution_count": null,
      "outputs": []
    },
    {
      "cell_type": "markdown",
      "source": [
        "## **Naive Bayes**"
      ],
      "metadata": {
        "id": "WMHzRrdLmp1E"
      }
    },
    {
      "cell_type": "markdown",
      "source": [
        "Implement train_naive_bayes and test_naive_bayes"
      ],
      "metadata": {
        "id": "76qo5mUenQ-Q"
      }
    },
    {
      "cell_type": "code",
      "source": [
        "def train_naive_bayes(D,C):\n",
        "    #Get the total number of documents\n",
        "    N_doc = 0\n",
        "    for c in C:\n",
        "        N_doc += len(D[c])\n",
        "    \n",
        "    #Get vocabulary and bigdoc of D\n",
        "    entire_document_list = []\n",
        "    for c in C:\n",
        "        for entry in D[c]:\n",
        "            for word in entry:\n",
        "                entire_document_list.append(word)\n",
        "    V = set(entire_document_list)\n",
        "    \n",
        "    #Get logprior and bigdoc\n",
        "    logprior = {}\n",
        "    bigdoc = {}\n",
        "    count = {}\n",
        "    log_likelihood = {}\n",
        "    for c in C:\n",
        "        N_c = len(D[c])\n",
        "        \n",
        "        logprior[c] = np.log(N_c/N_doc)\n",
        "        bigdoc_c = []\n",
        "        for entry in D[c]:\n",
        "            for word in entry:\n",
        "                bigdoc_c.append(word)\n",
        "        bigdoc[c] = bigdoc_c\n",
        "        \n",
        "        sum_words_in_c = 0\n",
        "        for word in V:\n",
        "            count[(word,c)] = bigdoc[c].count(word)\n",
        "            sum_words_in_c += (count[(word,c)] + 1)\n",
        "        \n",
        "        for word in V:\n",
        "            log_likelihood[(word,c)] = np.log((count[(word,c)] + 1) / sum_words_in_c)\n",
        "        \n",
        "    return logprior,log_likelihood,V"
      ],
      "metadata": {
        "id": "ba08ehNfnS26"
      },
      "execution_count": null,
      "outputs": []
    },
    {
      "cell_type": "code",
      "source": [
        "def test_naive_bayes(testdoc, logprior, loglikelihood, C, V):\n",
        "    sum_list = {}\n",
        "    for c in C:\n",
        "        sum_list[c] = logprior[c]\n",
        "        for word in testdoc:\n",
        "            if word in V:\n",
        "                sum_list[c] = sum_list[c] + loglikelihood[(word,c)]\n",
        "\n",
        "    most_likely_c = list(C)[0]\n",
        "    for c in sum_list:\n",
        "        if sum_list[c] > sum_list[most_likely_c]:\n",
        "            most_likely_c = c\n",
        "    return most_likely_c"
      ],
      "metadata": {
        "id": "mNUjtAroneWB"
      },
      "execution_count": null,
      "outputs": []
    },
    {
      "cell_type": "markdown",
      "source": [
        "The modified version of test_naive_bayes below was implemented to return the 5 most influential words in classifying each movie as a particular genre"
      ],
      "metadata": {
        "id": "VQT9vSAarKFK"
      }
    },
    {
      "cell_type": "code",
      "source": [
        "def test_naive_bayes_modified(testdoc, logprior, loglikelihood, C, V):\n",
        "    sum_list = {}\n",
        "    for c in C:\n",
        "        sum_list[c] = logprior[c]\n",
        "        for word in testdoc:\n",
        "            if word in V:\n",
        "                sum_list[c] = sum_list[c] + loglikelihood[(word,c)]\n",
        "\n",
        "    most_important_words = {}\n",
        "    most_likely_c = list(C)[0]\n",
        "    \n",
        "    for c in sum_list:\n",
        "        if sum_list[c] > sum_list[most_likely_c]:\n",
        "            most_likely_c = c\n",
        "    for word in testdoc:\n",
        "        if word in V:\n",
        "            other_genres = list(C)\n",
        "            other_genres.remove(most_likely_c)\n",
        "            most_important_words[word] = loglikelihood[(word,most_likely_c)] - sum([loglikelihood[(word,other_genre)] for other_genre in other_genres]) / (len(C) - 1)\n",
        "        \n",
        "    return most_likely_c,sorted(most_important_words,key=most_important_words.get,reverse=True)[:5]"
      ],
      "metadata": {
        "id": "3N4n0v_9rTHT"
      },
      "execution_count": null,
      "outputs": []
    },
    {
      "cell_type": "markdown",
      "source": [
        "### **Testing on original dataset**"
      ],
      "metadata": {
        "id": "OBAe_EVdoeQN"
      }
    },
    {
      "cell_type": "code",
      "source": [
        "#Read in the dataset\n",
        "df = pd.read_csv('trimmed_movies.csv')\n",
        "df = df.drop(['Unnamed: 0'],axis=1)\n",
        "df['Plot'] = df['Plot'].apply(lambda x: x.replace(\"[\\'\",\"\").replace(\"\\']\",\"\").split(\"\\', \\'\"))"
      ],
      "metadata": {
        "id": "9W3w9L7Ookbb"
      },
      "execution_count": null,
      "outputs": []
    },
    {
      "cell_type": "code",
      "source": [
        "#split data into training and testing set\n",
        "train=df.sample(frac=0.7,random_state=69) #random state is a seed value\n",
        "test=df.drop(train.index)\n",
        "\n",
        "#Map each genre to its list of words\n",
        "plot_mappings = {}\n",
        "for genre in train['Genre'].unique():\n",
        "    plot_mappings[genre] = train[train['Genre']==genre]['Plot']"
      ],
      "metadata": {
        "id": "S8rf-VuDokdl"
      },
      "execution_count": null,
      "outputs": []
    },
    {
      "cell_type": "markdown",
      "source": [
        "Train the naive bayes classifier on the training dataset"
      ],
      "metadata": {
        "id": "AY_luK_GnyDv"
      }
    },
    {
      "cell_type": "code",
      "source": [
        "#WARNING - THIS CELL TAKES VERY LONG TO RUN\n",
        "logprior, loglikelihood, V = train_naive_bayes(plot_mappings,plot_mappings.keys())"
      ],
      "metadata": {
        "id": "5h-jsJAlntf6"
      },
      "execution_count": null,
      "outputs": []
    },
    {
      "cell_type": "markdown",
      "source": [
        "Display loglikelihoods associated with the word 'ranch' for each genre"
      ],
      "metadata": {
        "id": "petFh_NbnoYD"
      }
    },
    {
      "cell_type": "code",
      "source": [
        "print(\"Log likelihood of word 'ranch' for each genre\")\n",
        "for genre in list(test['Genre'].unique()):\n",
        "    print(genre + ': ' + str(loglikelihood[('ranch',genre)]))"
      ],
      "metadata": {
        "id": "ZY9xBpeboEPx"
      },
      "execution_count": null,
      "outputs": []
    },
    {
      "cell_type": "markdown",
      "source": [
        "Make genre predictions on the test data set and assess accuracy"
      ],
      "metadata": {
        "id": "Q6L60W1uoH0a"
      }
    },
    {
      "cell_type": "code",
      "source": [
        "#Make predictions and print their accuracy\n",
        "predictions = []\n",
        "for i in range(len(test)):\n",
        "    pred_genre = test_naive_bayes(test['Plot'].iloc[i],logprior,loglikelihood,plot_mappings.keys(),V)\n",
        "    predictions.append(pred_genre)\n",
        "print(accuracy_score(predictions,test['Genre']))  "
      ],
      "metadata": {
        "id": "78tWUe0-oNwG"
      },
      "execution_count": null,
      "outputs": []
    },
    {
      "cell_type": "markdown",
      "source": [
        "Construct and visualize confusion matrix"
      ],
      "metadata": {
        "id": "N4DZwv_Mo2xF"
      }
    },
    {
      "cell_type": "code",
      "source": [
        "df_cm = pd.DataFrame(confusion_matrix(test['Genre'],predictions,labels=list(test['Genre'].unique())),columns=list(test['Genre'].unique()),index=list(test['Genre'].unique()))\n",
        "pd.concat(\n",
        "    [pd.concat(\n",
        "        [df_cm],\n",
        "        keys=['Predicted Class'], axis=1)],\n",
        "    keys=['Actual Class'])"
      ],
      "metadata": {
        "id": "FjOfILH0o4lH"
      },
      "execution_count": null,
      "outputs": []
    },
    {
      "cell_type": "markdown",
      "source": [
        "Show most influential words for each genre using test_naive_bayes_modified"
      ],
      "metadata": {
        "id": "EYjaK778rZSN"
      }
    },
    {
      "cell_type": "code",
      "source": [
        "predictions = []\n",
        "word_counts = {'drama':{},'comedy':{},'horror':{},'thriller':{},'western':{},'action':{},'musical':{},'science fiction':{}}\n",
        "for i in range(len(test)):\n",
        "    pred_genre,impt_words = test_naive_bayes_modified(test['Plot'].iloc[i],logprior,loglikelihood,plot_mappings.keys(),V)\n",
        "    for word in impt_words:\n",
        "        word_counts_genre = word_counts.get(pred_genre,[])\n",
        "        word_counts_genre[word] = word_counts_genre.get(word,0) + 1\n",
        "    predictions.append(pred_genre)"
      ],
      "metadata": {
        "id": "OiUCHwngreff"
      },
      "execution_count": null,
      "outputs": []
    },
    {
      "cell_type": "code",
      "source": [
        "#Print top ten words for each genre\n",
        "for genre in word_counts.keys():\n",
        "    print(genre +':  '+ str(sorted(word_counts[genre], key=word_counts[genre].get, reverse=True)[:10]))"
      ],
      "metadata": {
        "id": "N65ryMssrwC5"
      },
      "execution_count": null,
      "outputs": []
    },
    {
      "cell_type": "markdown",
      "source": [
        "### **Testing on dataset with equal \\# sampled from each genre**"
      ],
      "metadata": {
        "id": "HbdkziGxo-OZ"
      }
    },
    {
      "cell_type": "markdown",
      "source": [
        "Randomly sample 377 movies from every genre"
      ],
      "metadata": {
        "id": "4qKndtzFpMNE"
      }
    },
    {
      "cell_type": "code",
      "source": [
        "df_drama = df[df['Genre']=='drama'].sample(n = 377,random_state=55)\n",
        "df_adventure = df[df['Genre']=='adventure'].sample(n = 377,random_state=55)\n",
        "df_comedy = df[df['Genre']=='comedy'].sample(n = 377,random_state=55)\n",
        "df_horror = df[df['Genre']=='horror'].sample(n = 377,random_state=55)\n",
        "df_thriller = df[df['Genre']=='thriller'].sample(n = 377,random_state=55)\n",
        "df_western = df[df['Genre']=='western'].sample(n = 377,random_state=55)\n",
        "df_action = df[df['Genre']=='action'].sample(n = 377,random_state=55)\n",
        "df_musical = df[df['Genre']=='musical'].sample(n = 377,random_state=55)\n",
        "df_science_fiction = df[df['Genre']=='science fiction'].sample(n = 377,random_state=55)\n",
        "equal_length_df = pd.concat([df_comedy,df_adventure,df_drama,df_horror,df_thriller,df_western,df_action,df_musical,df_science_fiction])"
      ],
      "metadata": {
        "id": "2bIRINokpHot"
      },
      "execution_count": null,
      "outputs": []
    },
    {
      "cell_type": "markdown",
      "source": [
        "Construct training/test data sets, and map genres to their word groups"
      ],
      "metadata": {
        "id": "xP6fopOypR75"
      }
    },
    {
      "cell_type": "code",
      "source": [
        "train_equal = equal_length_df.sample(frac=.7)\n",
        "test_equal = equal_length_df.drop(train_equal.index)\n",
        "\n",
        "plot_mappings_equal = {}\n",
        "for genre in train_equal['Genre'].unique():\n",
        "    plot_mappings_equal[genre] = train_equal[train_equal['Genre']==genre]['Plot']"
      ],
      "metadata": {
        "id": "8fViermwpPwP"
      },
      "execution_count": null,
      "outputs": []
    },
    {
      "cell_type": "markdown",
      "source": [
        "Train naive bayes on this dataset"
      ],
      "metadata": {
        "id": "rBLhQJBHpalc"
      }
    },
    {
      "cell_type": "code",
      "source": [
        "#WARNING - THIS CELL TAKES A LONG TIME TO RUN\n",
        "logprior_equal, loglikelihood_equal, V_equal = train_naive_bayes(plot_mappings_equal,plot_mappings_equal.keys())"
      ],
      "metadata": {
        "id": "_K-Bshd3pcps"
      },
      "execution_count": null,
      "outputs": []
    },
    {
      "cell_type": "markdown",
      "source": [
        "Make predictions and display their accuracy"
      ],
      "metadata": {
        "id": "XinCupd5pi26"
      }
    },
    {
      "cell_type": "code",
      "source": [
        "predictions = []\n",
        "for i in range(len(test_equal)):\n",
        "    pred_genre = test_naive_bayes(test_equal['Plot'].iloc[i],logprior_equal,loglikelihood_equal,plot_mappings_equal.keys(),V_equal)\n",
        "    predictions.append(pred_genre)\n",
        "print(accuracy_score(predictions,test_equal['Genre']))"
      ],
      "metadata": {
        "id": "rMLkE-hcpevw"
      },
      "execution_count": null,
      "outputs": []
    },
    {
      "cell_type": "code",
      "source": [
        "#Construct confusion matrix\n",
        "df_cm = pd.DataFrame(confusion_matrix(test_equal['Genre'],predictions,labels=list(test_equal['Genre'].unique())),columns=list(test_equal['Genre'].unique()),index=list(test_equal['Genre'].unique()))\n",
        "df_cm = df_cm.reindex(['comedy','adventure','drama','western','thriller','horror','musical','action','science fiction'])\n",
        "df_cm = df_cm[['comedy','adventure','drama','western','thriller','horror','musical','action','science fiction']]\n",
        "pd.concat(\n",
        "    [pd.concat(\n",
        "        [df_cm],\n",
        "        keys=['Predicted Class'], axis=1)],\n",
        "    keys=['Actual Class'])"
      ],
      "metadata": {
        "id": "wIVXDN_VpoXS"
      },
      "execution_count": null,
      "outputs": []
    },
    {
      "cell_type": "markdown",
      "source": [
        "Show most influential words for each genre using test_naive_bayes_modified"
      ],
      "metadata": {
        "id": "YAeJyB11r4HB"
      }
    },
    {
      "cell_type": "code",
      "source": [
        "predictions = []\n",
        "word_counts = {'drama':{},'adventure':{},'comedy':{},'horror':{},'thriller':{},'western':{},'action':{},'musical':{},'science fiction':{}}\n",
        "for i in range(len(test_equal)):\n",
        "    pred_genre,impt_words = test_naive_bayes_modified(test_equal['Plot'].iloc[i],logprior_equal,loglikelihood_equal,plot_mappings_equal.keys(),V_equal)\n",
        "    for word in impt_words:\n",
        "        word_counts_genre = word_counts.get(pred_genre,[])\n",
        "        word_counts_genre[word] = word_counts_genre.get(word,0) + 1\n",
        "    predictions.append(pred_genre)"
      ],
      "metadata": {
        "id": "88iM5ztgr4Ra"
      },
      "execution_count": null,
      "outputs": []
    },
    {
      "cell_type": "code",
      "source": [
        "#Print top ten words for each genre\n",
        "for genre in word_counts.keys():\n",
        "    print(genre +':  '+ str(sorted(word_counts[genre], key=word_counts[genre].get, reverse=True)[:10]))"
      ],
      "metadata": {
        "id": "WN6ByxoAsFFW"
      },
      "execution_count": null,
      "outputs": []
    },
    {
      "cell_type": "markdown",
      "source": [
        "### **Testing on dataset with names removed**"
      ],
      "metadata": {
        "id": "upsessY5qGgD"
      }
    },
    {
      "cell_type": "markdown",
      "source": [
        "Read in the dataset, randomly sample equal numbers from each genre, and do train-test-split"
      ],
      "metadata": {
        "id": "TEHLZsB7qQ_e"
      }
    },
    {
      "cell_type": "code",
      "source": [
        "#Read in the dataset\n",
        "df_no_names = pd.read_csv('trimmed_movies_no_names.csv')\n",
        "df_no_names = df_no_names.drop(['Unnamed: 0'],axis=1)\n",
        "df_no_names['Plot'] = df_no_names['Plot'].apply(lambda x: x.replace(\"[\\'\",\"\").replace(\"\\']\",\"\").split(\"\\', \\'\"))\n",
        "\n",
        "#Sample from genres\n",
        "df_drama_no_names = df_no_names[df_no_names['Genre']=='drama'].sample(n = 377,random_state=55)\n",
        "df_adventure_no_names = df_no_names[df_no_names['Genre']=='adventure'].sample(n=377,random_state=55)\n",
        "df_comedy_no_names = df_no_names[df_no_names['Genre']=='comedy'].sample(n = 377,random_state=55)\n",
        "df_horror_no_names = df_no_names[df_no_names['Genre']=='horror'].sample(n = 377,random_state=55)\n",
        "df_thriller_no_names = df_no_names[df_no_names['Genre']=='thriller'].sample(n = 377,random_state=55)\n",
        "df_western_no_names = df_no_names[df_no_names['Genre']=='western'].sample(n = 377,random_state=55)\n",
        "df_action_no_names = df_no_names[df_no_names['Genre']=='action'].sample(n = 377,random_state=55)\n",
        "df_musical_no_names = df_no_names[df_no_names['Genre']=='musical'].sample(n = 377,random_state=55)\n",
        "df_science_fiction_no_names = df_no_names[df_no_names['Genre']=='science fiction'].sample(n = 377,random_state=55)\n",
        "no_names_df = pd.concat([df_comedy_no_names,df_adventure_no_names,df_drama_no_names,df_horror_no_names,df_thriller_no_names,df_western_no_names,df_action_no_names,df_musical_no_names,df_science_fiction_no_names])\n",
        "\n",
        "#Train test split\n",
        "train_no_names=no_names_df.sample(frac=0.7,random_state=69)\n",
        "test_no_names=no_names_df.drop(train_no_names.index)"
      ],
      "metadata": {
        "id": "SPV5R1S9qK_z"
      },
      "execution_count": null,
      "outputs": []
    },
    {
      "cell_type": "code",
      "source": [
        "#Map each genre to its list of words\n",
        "plot_mappings_no_names = {}\n",
        "for genre in train_no_names['Genre'].unique():\n",
        "    plot_mappings_no_names[genre] = train_no_names[train_no_names['Genre']==genre]['Plot']"
      ],
      "metadata": {
        "id": "oGKm76Faqog9"
      },
      "execution_count": null,
      "outputs": []
    },
    {
      "cell_type": "markdown",
      "source": [
        "Train naive bayes on this dataset"
      ],
      "metadata": {
        "id": "5sqKdwVhqsyK"
      }
    },
    {
      "cell_type": "code",
      "source": [
        "#WARNING - THIS CELL TAKES A LONG TIME TO RUN\n",
        "logprior_no_names, loglikelihood_no_names, V_no_names = train_naive_bayes(plot_mappings_no_names,plot_mappings_no_names.keys())"
      ],
      "metadata": {
        "id": "pMEytsuzqpCK"
      },
      "execution_count": null,
      "outputs": []
    },
    {
      "cell_type": "markdown",
      "source": [
        "Make predictions and display accuracy"
      ],
      "metadata": {
        "id": "njgZKK9wq1Lv"
      }
    },
    {
      "cell_type": "code",
      "source": [
        "predictions = []\n",
        "for i in range(len(test_no_names)):\n",
        "    pred_genre = test_naive_bayes(test_no_names['Plot'].iloc[i],logprior_no_names,loglikelihood_no_names,plot_mappings_no_names.keys(),V_no_names)\n",
        "    predictions.append(pred_genre)\n",
        "print(accuracy_score(predictions,test_no_names['Genre']))"
      ],
      "metadata": {
        "id": "2yGzfKR4q3B7"
      },
      "execution_count": null,
      "outputs": []
    },
    {
      "cell_type": "code",
      "source": [
        "#Show confusion matrix\n",
        "df_cm = pd.DataFrame(confusion_matrix(test_no_names['Genre'],predictions,labels=list(test_no_names['Genre'].unique())),columns=list(test_no_names['Genre'].unique()),index=list(test_no_names['Genre'].unique()))\n",
        "df_cm = df_cm.reindex(['comedy','adventure','drama','western','thriller','horror','musical','action','science fiction'])\n",
        "df_cm = df_cm[['comedy','adventure','drama','western','thriller','horror','musical','action','science fiction']]\n",
        "pd.concat(\n",
        "    [pd.concat(\n",
        "        [df_cm],\n",
        "        keys=['Predicted Class'], axis=1)],\n",
        "    keys=['Actual Class'])"
      ],
      "metadata": {
        "id": "8K78-5Cbq7az"
      },
      "execution_count": null,
      "outputs": []
    },
    {
      "cell_type": "markdown",
      "source": [
        "Show most influential words for each genre using test_naive_bayes_modified"
      ],
      "metadata": {
        "id": "NwJfpr-YsUPE"
      }
    },
    {
      "cell_type": "code",
      "source": [
        "predictions = []\n",
        "word_counts = {'drama':{},'adventure':{},'comedy':{},'horror':{},'thriller':{},'western':{},'action':{},'musical':{},'science fiction':{}}\n",
        "for i in range(len(test_no_names)):\n",
        "    pred_genre,impt_words = test_naive_bayes_modified(test_no_names['Plot'].iloc[i],logprior_no_names,loglikelihood_no_names,plot_mappings_no_names.keys(),V_no_names)\n",
        "    for word in impt_words:\n",
        "        word_counts_genre = word_counts.get(pred_genre,[])\n",
        "        word_counts_genre[word] = word_counts_genre.get(word,0) + 1\n",
        "    predictions.append(pred_genre)"
      ],
      "metadata": {
        "id": "8Ba0Rh2msXyo"
      },
      "execution_count": null,
      "outputs": []
    },
    {
      "cell_type": "code",
      "source": [
        "#Print top ten words for each genre\n",
        "for genre in word_counts.keys():\n",
        "    print(genre +':  '+ str(sorted(word_counts[genre], key=word_counts[genre].get, reverse=True)[:10]))"
      ],
      "metadata": {
        "id": "BzxED3CXsbjE"
      },
      "execution_count": null,
      "outputs": []
    },
    {
      "cell_type": "markdown",
      "source": [
        "#### **Look at words most commonly used in correct vs incorrect classifications**"
      ],
      "metadata": {
        "id": "gLEaN5Abs6dv"
      }
    },
    {
      "cell_type": "code",
      "source": [
        "predictions = []\n",
        "word_counts_wrong = {'drama':{},'adventure':{},'comedy':{},'horror':{},'thriller':{},'western':{},'action':{},'musical':{},'science fiction':{}}\n",
        "word_counts_correct = {'drama':{},'adventure':{},'comedy':{},'horror':{},'thriller':{},'western':{},'action':{},'musical':{},'science fiction':{}}\n",
        "for i in range(len(test_no_names)):\n",
        "    pred_genre,impt_words = test_naive_bayes_modified(test_no_names['Plot'].iloc[i],logprior_no_names,loglikelihood_no_names,plot_mappings_no_names.keys(),V_no_names)\n",
        "    for word in impt_words:\n",
        "        if pred_genre == test_no_names.iloc[i]['Genre']:\n",
        "            word_counts_genre = word_counts_correct.get(pred_genre,[])\n",
        "            word_counts_genre[word] = word_counts_genre.get(word,0) + 1\n",
        "        else:\n",
        "            word_counts_genre = word_counts_wrong.get(pred_genre,[])\n",
        "            word_counts_genre[word] = word_counts_genre.get(word,0) + 1\n",
        "    predictions.append(pred_genre)"
      ],
      "metadata": {
        "id": "karpMXh3s_HC"
      },
      "execution_count": null,
      "outputs": []
    },
    {
      "cell_type": "code",
      "source": [
        "print('=====MOST INFLUENTIAL WORDS FOR INCORRECT CLASSIFICATIONS=====')\n",
        "for genre in word_counts_wrong.keys():\n",
        "    print(genre +':  '+ str(sorted(word_counts_wrong[genre], key=word_counts_wrong[genre].get, reverse=True)[:10]))\n",
        "print('=====MOST INFLUENTIAL WORDS FOR CORRECT CLASSIFICATIONS=====')\n",
        "for genre in word_counts_correct.keys():\n",
        "    print(genre +':  '+ str(sorted(word_counts_correct[genre], key=word_counts_correct[genre].get, reverse=True)[:10]))"
      ],
      "metadata": {
        "id": "Mp1B6phetAzf"
      },
      "execution_count": null,
      "outputs": []
    },
    {
      "cell_type": "markdown",
      "source": [
        ""
      ],
      "metadata": {
        "id": "4J7e851lwetM"
      }
    },
    {
      "cell_type": "markdown",
      "source": [
        ""
      ],
      "metadata": {
        "id": "U9lgDldgdmBD"
      }
    },
    {
      "cell_type": "markdown",
      "source": [
        "## **TF IDF**"
      ],
      "metadata": {
        "id": "8Nl9jnkxeJ9w"
      }
    },
    {
      "cell_type": "code",
      "source": [
        "from sklearn.feature_extraction.text import TfidfVectorizer\n",
        "from sklearn.naive_bayes import MultinomialNB\n",
        "from sklearn.model_selection import train_test_split\n",
        "from sklearn import svm\n",
        "from sklearn.metrics import confusion_matrix, ConfusionMatrixDisplay"
      ],
      "metadata": {
        "id": "S4s6cS3q6iH_"
      },
      "execution_count": null,
      "outputs": []
    },
    {
      "cell_type": "code",
      "source": [
        "# Returns a balanced version of movie_df. Sample size chosen as 377 because this was the max number of samples for the smallest genre\n",
        "def sample_df(df):\n",
        "    df_drama = df[df['Genre']=='drama'].sample(n = 377)\n",
        "    df_adventure = df[df['Genre']=='adventure'].sample(n = 377)\n",
        "    df_comedy = df[df['Genre']=='comedy'].sample(n = 377)\n",
        "    df_horror = df[df['Genre']=='horror'].sample(n = 377)\n",
        "    df_thriller = df[df['Genre']=='thriller'].sample(n = 377)\n",
        "    df_western = df[df['Genre']=='western'].sample(n = 377)\n",
        "    df_action = df[df['Genre']=='action'].sample(n = 377)\n",
        "    df_musical = df[df['Genre']=='musical'].sample(n = 377)\n",
        "    df_science_fiction = df[df['Genre']=='science fiction'].sample(n = 377)\n",
        "    equal_length_df = pd.concat([df_comedy,df_drama,df_adventure, df_horror,df_thriller,df_western,df_action,df_musical,df_science_fiction])\n",
        "    return equal_length_df"
      ],
      "metadata": {
        "id": "MqoB_J2n773a"
      },
      "execution_count": null,
      "outputs": []
    },
    {
      "cell_type": "code",
      "source": [
        "# Creates the vectorizer object and generates the feature matrix\n",
        "# Note: movie_df has two representations of its plot\n",
        "#   1. Plot is the paragraph version of the data. This is the form we want it for the code to execute properly\n",
        "#   2. PlotPreProcessed is the list version of each plot. This was used mainly for exploratory purposes, it does not need to be referenced any more\n",
        "vectorizer = TfidfVectorizer()\n",
        "X = vectorizer.fit_transform(movie_df[\"Plot\"])\n",
        "X"
      ],
      "metadata": {
        "colab": {
          "base_uri": "https://localhost:8080/"
        },
        "id": "VsoHzKm86nmO",
        "outputId": "aae2f80f-4575-46b4-e45b-65c3497eb8c8"
      },
      "execution_count": null,
      "outputs": [
        {
          "output_type": "execute_result",
          "data": {
            "text/plain": [
              "<12995x74349 sparse matrix of type '<class 'numpy.float64'>'\n",
              "\twith 2453476 stored elements in Compressed Sparse Row format>"
            ]
          },
          "metadata": {},
          "execution_count": 34
        }
      ]
    },
    {
      "cell_type": "code",
      "source": [
        "# Run MultinomialNB for the feature matrix. Don't expect a great score!\n",
        "train_x, test_x, train_y, test_y = train_test_split(X,movie_df[\"Genre\"], test_size=0.2)\n",
        "nb = MultinomialNB()\n",
        "nb.fit(train_x, train_y)\n",
        "nb.score(test_x, test_y)"
      ],
      "metadata": {
        "colab": {
          "base_uri": "https://localhost:8080/"
        },
        "id": "qQ5eIDtk6nR7",
        "outputId": "582a658a-807a-4c78-a136-29e5054a9cbd"
      },
      "execution_count": null,
      "outputs": [
        {
          "output_type": "execute_result",
          "data": {
            "text/plain": [
              "0.42400923432089266"
            ]
          },
          "metadata": {},
          "execution_count": 35
        }
      ]
    },
    {
      "cell_type": "code",
      "source": [
        "# Some example code used for tuning a linear svm model \n",
        "# The hyperparameter here being tuned is max_df\n",
        "# can easily be set to min_df, max_features, or any other argument that TfidfVectorizer supports\n",
        "# NOTE: This code only does one run per option! Can wrap in another for loop for more confident results\n",
        "import numpy as np\n",
        "testing_df = sample_df(movie_df_names_removed)\n",
        "final_score = 0\n",
        "z = 0\n",
        "for y in np.arange(.1,.9,.01):\n",
        "    # ugly printing of progress. can comment out if desired\n",
        "    print(y)\n",
        "    # This is where to change max_df to something else\n",
        "    vectorizer = TfidfVectorizer(max_df = y)\n",
        "    X = vectorizer.fit_transform(testing_df[\"WholePlot\"])\n",
        "    train_x, test_x, train_y, test_y = train_test_split(X,testing_df[\"Genre\"])\n",
        "    svm_model = svm.SVC(kernel = 'linear')\n",
        "    svm_model.fit(train_x, train_y)\n",
        "    score = svm_model.score(test_x, test_y)\n",
        "    if score > final_score:\n",
        "        final_score = score\n",
        "        z = y\n",
        "# print the best parameter with its score\n",
        "print(f\"maxdf set to {z} with score of {final_score}%\")"
      ],
      "metadata": {
        "colab": {
          "base_uri": "https://localhost:8080/",
          "height": 449
        },
        "id": "PjgYyPjj6nES",
        "outputId": "f13aaca6-1873-435a-863b-5e28b6cbee3b"
      },
      "execution_count": null,
      "outputs": [
        {
          "output_type": "stream",
          "name": "stdout",
          "text": [
            "0.1\n"
          ]
        },
        {
          "output_type": "error",
          "ename": "KeyboardInterrupt",
          "evalue": "ignored",
          "traceback": [
            "\u001b[0;31m---------------------------------------------------------------------------\u001b[0m",
            "\u001b[0;31mKeyboardInterrupt\u001b[0m                         Traceback (most recent call last)",
            "\u001b[0;32m<ipython-input-40-de0b46d109d2>\u001b[0m in \u001b[0;36m<module>\u001b[0;34m()\u001b[0m\n\u001b[1;32m     15\u001b[0m     \u001b[0mtrain_x\u001b[0m\u001b[0;34m,\u001b[0m \u001b[0mtest_x\u001b[0m\u001b[0;34m,\u001b[0m \u001b[0mtrain_y\u001b[0m\u001b[0;34m,\u001b[0m \u001b[0mtest_y\u001b[0m \u001b[0;34m=\u001b[0m \u001b[0mtrain_test_split\u001b[0m\u001b[0;34m(\u001b[0m\u001b[0mX\u001b[0m\u001b[0;34m,\u001b[0m\u001b[0mtesting_df\u001b[0m\u001b[0;34m[\u001b[0m\u001b[0;34m\"Genre\"\u001b[0m\u001b[0;34m]\u001b[0m\u001b[0;34m)\u001b[0m\u001b[0;34m\u001b[0m\u001b[0;34m\u001b[0m\u001b[0m\n\u001b[1;32m     16\u001b[0m     \u001b[0msvm_model\u001b[0m \u001b[0;34m=\u001b[0m \u001b[0msvm\u001b[0m\u001b[0;34m.\u001b[0m\u001b[0mSVC\u001b[0m\u001b[0;34m(\u001b[0m\u001b[0mkernel\u001b[0m \u001b[0;34m=\u001b[0m \u001b[0;34m'linear'\u001b[0m\u001b[0;34m)\u001b[0m\u001b[0;34m\u001b[0m\u001b[0;34m\u001b[0m\u001b[0m\n\u001b[0;32m---> 17\u001b[0;31m     \u001b[0msvm_model\u001b[0m\u001b[0;34m.\u001b[0m\u001b[0mfit\u001b[0m\u001b[0;34m(\u001b[0m\u001b[0mtrain_x\u001b[0m\u001b[0;34m,\u001b[0m \u001b[0mtrain_y\u001b[0m\u001b[0;34m)\u001b[0m\u001b[0;34m\u001b[0m\u001b[0;34m\u001b[0m\u001b[0m\n\u001b[0m\u001b[1;32m     18\u001b[0m     \u001b[0mscore\u001b[0m \u001b[0;34m=\u001b[0m \u001b[0msvm_model\u001b[0m\u001b[0;34m.\u001b[0m\u001b[0mscore\u001b[0m\u001b[0;34m(\u001b[0m\u001b[0mtest_x\u001b[0m\u001b[0;34m,\u001b[0m \u001b[0mtest_y\u001b[0m\u001b[0;34m)\u001b[0m\u001b[0;34m\u001b[0m\u001b[0;34m\u001b[0m\u001b[0m\n\u001b[1;32m     19\u001b[0m     \u001b[0;32mif\u001b[0m \u001b[0mscore\u001b[0m \u001b[0;34m>\u001b[0m \u001b[0mfinal_score\u001b[0m\u001b[0;34m:\u001b[0m\u001b[0;34m\u001b[0m\u001b[0;34m\u001b[0m\u001b[0m\n",
            "\u001b[0;32m/usr/local/lib/python3.7/dist-packages/sklearn/svm/_base.py\u001b[0m in \u001b[0;36mfit\u001b[0;34m(self, X, y, sample_weight)\u001b[0m\n\u001b[1;32m    253\u001b[0m \u001b[0;34m\u001b[0m\u001b[0m\n\u001b[1;32m    254\u001b[0m         \u001b[0mseed\u001b[0m \u001b[0;34m=\u001b[0m \u001b[0mrnd\u001b[0m\u001b[0;34m.\u001b[0m\u001b[0mrandint\u001b[0m\u001b[0;34m(\u001b[0m\u001b[0mnp\u001b[0m\u001b[0;34m.\u001b[0m\u001b[0miinfo\u001b[0m\u001b[0;34m(\u001b[0m\u001b[0;34m\"i\"\u001b[0m\u001b[0;34m)\u001b[0m\u001b[0;34m.\u001b[0m\u001b[0mmax\u001b[0m\u001b[0;34m)\u001b[0m\u001b[0;34m\u001b[0m\u001b[0;34m\u001b[0m\u001b[0m\n\u001b[0;32m--> 255\u001b[0;31m         \u001b[0mfit\u001b[0m\u001b[0;34m(\u001b[0m\u001b[0mX\u001b[0m\u001b[0;34m,\u001b[0m \u001b[0my\u001b[0m\u001b[0;34m,\u001b[0m \u001b[0msample_weight\u001b[0m\u001b[0;34m,\u001b[0m \u001b[0msolver_type\u001b[0m\u001b[0;34m,\u001b[0m \u001b[0mkernel\u001b[0m\u001b[0;34m,\u001b[0m \u001b[0mrandom_seed\u001b[0m\u001b[0;34m=\u001b[0m\u001b[0mseed\u001b[0m\u001b[0;34m)\u001b[0m\u001b[0;34m\u001b[0m\u001b[0;34m\u001b[0m\u001b[0m\n\u001b[0m\u001b[1;32m    256\u001b[0m         \u001b[0;31m# see comment on the other call to np.iinfo in this file\u001b[0m\u001b[0;34m\u001b[0m\u001b[0;34m\u001b[0m\u001b[0;34m\u001b[0m\u001b[0m\n\u001b[1;32m    257\u001b[0m \u001b[0;34m\u001b[0m\u001b[0m\n",
            "\u001b[0;32m/usr/local/lib/python3.7/dist-packages/sklearn/svm/_base.py\u001b[0m in \u001b[0;36m_sparse_fit\u001b[0;34m(self, X, y, sample_weight, solver_type, kernel, random_seed)\u001b[0m\n\u001b[1;32m    374\u001b[0m             \u001b[0mint\u001b[0m\u001b[0;34m(\u001b[0m\u001b[0mself\u001b[0m\u001b[0;34m.\u001b[0m\u001b[0mprobability\u001b[0m\u001b[0;34m)\u001b[0m\u001b[0;34m,\u001b[0m\u001b[0;34m\u001b[0m\u001b[0;34m\u001b[0m\u001b[0m\n\u001b[1;32m    375\u001b[0m             \u001b[0mself\u001b[0m\u001b[0;34m.\u001b[0m\u001b[0mmax_iter\u001b[0m\u001b[0;34m,\u001b[0m\u001b[0;34m\u001b[0m\u001b[0;34m\u001b[0m\u001b[0m\n\u001b[0;32m--> 376\u001b[0;31m             \u001b[0mrandom_seed\u001b[0m\u001b[0;34m,\u001b[0m\u001b[0;34m\u001b[0m\u001b[0;34m\u001b[0m\u001b[0m\n\u001b[0m\u001b[1;32m    377\u001b[0m         )\n\u001b[1;32m    378\u001b[0m \u001b[0;34m\u001b[0m\u001b[0m\n",
            "\u001b[0;32msklearn/svm/_libsvm_sparse.pyx\u001b[0m in \u001b[0;36msklearn.svm._libsvm_sparse.libsvm_sparse_train\u001b[0;34m()\u001b[0m\n",
            "\u001b[0;32m/usr/local/lib/python3.7/dist-packages/scipy/sparse/compressed.py\u001b[0m in \u001b[0;36m__init__\u001b[0;34m(self, arg1, shape, dtype, copy)\u001b[0m\n\u001b[1;32m     28\u001b[0m     \u001b[0;34m\"\"\"base matrix class for compressed row and column oriented matrices\"\"\"\u001b[0m\u001b[0;34m\u001b[0m\u001b[0;34m\u001b[0m\u001b[0m\n\u001b[1;32m     29\u001b[0m \u001b[0;34m\u001b[0m\u001b[0m\n\u001b[0;32m---> 30\u001b[0;31m     \u001b[0;32mdef\u001b[0m \u001b[0m__init__\u001b[0m\u001b[0;34m(\u001b[0m\u001b[0mself\u001b[0m\u001b[0;34m,\u001b[0m \u001b[0marg1\u001b[0m\u001b[0;34m,\u001b[0m \u001b[0mshape\u001b[0m\u001b[0;34m=\u001b[0m\u001b[0;32mNone\u001b[0m\u001b[0;34m,\u001b[0m \u001b[0mdtype\u001b[0m\u001b[0;34m=\u001b[0m\u001b[0;32mNone\u001b[0m\u001b[0;34m,\u001b[0m \u001b[0mcopy\u001b[0m\u001b[0;34m=\u001b[0m\u001b[0;32mFalse\u001b[0m\u001b[0;34m)\u001b[0m\u001b[0;34m:\u001b[0m\u001b[0;34m\u001b[0m\u001b[0;34m\u001b[0m\u001b[0m\n\u001b[0m\u001b[1;32m     31\u001b[0m         \u001b[0m_data_matrix\u001b[0m\u001b[0;34m.\u001b[0m\u001b[0m__init__\u001b[0m\u001b[0;34m(\u001b[0m\u001b[0mself\u001b[0m\u001b[0;34m)\u001b[0m\u001b[0;34m\u001b[0m\u001b[0;34m\u001b[0m\u001b[0m\n\u001b[1;32m     32\u001b[0m \u001b[0;34m\u001b[0m\u001b[0m\n",
            "\u001b[0;31mKeyboardInterrupt\u001b[0m: "
          ]
        }
      ]
    },
    {
      "cell_type": "code",
      "source": [
        "# Code that will repeat an experiment, this is a more trustworthy accuracy result\n",
        "scores = []\n",
        "testing_df = sample_df(movie_df_names_removed)\n",
        "for _ in range(5):\n",
        "    vectorizer = TfidfVectorizer(max_df = 0.2)\n",
        "    X = vectorizer.fit_transform(testing_df[\"WholePlot\"])\n",
        "    train_x, test_x, train_y, test_y = train_test_split(X,testing_df[\"Genre\"])\n",
        "    svm_model = svm.SVC(kernel = 'linear')\n",
        "    svm_model.fit(train_x, train_y)\n",
        "    scores.append(svm_model.score(test_x, test_y))\n",
        "sum(scores)/len(scores)"
      ],
      "metadata": {
        "colab": {
          "base_uri": "https://localhost:8080/"
        },
        "id": "4dYAfwfH9eHm",
        "outputId": "d8309c73-52b5-446c-b683-3917ebdc96ac"
      },
      "execution_count": null,
      "outputs": [
        {
          "output_type": "execute_result",
          "data": {
            "text/plain": [
              "0.5667844522968198"
            ]
          },
          "metadata": {},
          "execution_count": 41
        }
      ]
    },
    {
      "cell_type": "code",
      "source": [
        "# Create a confusion matrix for any desired fit. Can change the model below to anything. Just make sure that 'pred' is the set of predicted labels\n",
        "vectorizer = TfidfVectorizer(max_df = 0.2)\n",
        "X = vectorizer.fit_transform(testing_df[\"WholePlot\"])\n",
        "train_x, test_x, train_y, test_y = train_test_split(X,testing_df[\"Genre\"])\n",
        "svm_model = svm.SVC(kernel = 'linear')\n",
        "svm_model.fit(train_x, train_y)\n",
        "# maintain similar logic below if you change the above model!\n",
        "pred = svm_model.predict(test_x)\n",
        "pd.DataFrame(confusion_matrix(test_y, pred, labels=top_genres), index = top_genres, columns = top_genres)"
      ],
      "metadata": {
        "colab": {
          "base_uri": "https://localhost:8080/",
          "height": 332
        },
        "id": "QTNEBIEk9d09",
        "outputId": "05669cb7-c45f-4cbd-d775-6f4c6bf328b0"
      },
      "execution_count": null,
      "outputs": [
        {
          "output_type": "execute_result",
          "data": {
            "text/plain": [
              "                 western  comedy  drama  adventure  horror  thriller  musical  \\\n",
              "western               80       2      5          3       0         3        0   \n",
              "comedy                 1      40     23          6       1         7        8   \n",
              "drama                  0      19     45          9       5         8        7   \n",
              "adventure              2       5     12         54       1         3        3   \n",
              "horror                 1       2      8          5      60        15        1   \n",
              "thriller               0      14     13          8      13        37        0   \n",
              "musical                2      18     18          7       0         0       52   \n",
              "action                 0       1      2         15       3         9        0   \n",
              "science fiction        0       5      3          3       8         4        0   \n",
              "\n",
              "                 action  science fiction  \n",
              "western               1                0  \n",
              "comedy                7                1  \n",
              "drama                 4                0  \n",
              "adventure             5                0  \n",
              "horror                4                4  \n",
              "thriller             10                3  \n",
              "musical               1                0  \n",
              "action               53                0  \n",
              "science fiction      10               67  "
            ],
            "text/html": [
              "\n",
              "  <div id=\"df-b51c9b03-c31c-42a5-89d4-d901e5061078\">\n",
              "    <div class=\"colab-df-container\">\n",
              "      <div>\n",
              "<style scoped>\n",
              "    .dataframe tbody tr th:only-of-type {\n",
              "        vertical-align: middle;\n",
              "    }\n",
              "\n",
              "    .dataframe tbody tr th {\n",
              "        vertical-align: top;\n",
              "    }\n",
              "\n",
              "    .dataframe thead th {\n",
              "        text-align: right;\n",
              "    }\n",
              "</style>\n",
              "<table border=\"1\" class=\"dataframe\">\n",
              "  <thead>\n",
              "    <tr style=\"text-align: right;\">\n",
              "      <th></th>\n",
              "      <th>western</th>\n",
              "      <th>comedy</th>\n",
              "      <th>drama</th>\n",
              "      <th>adventure</th>\n",
              "      <th>horror</th>\n",
              "      <th>thriller</th>\n",
              "      <th>musical</th>\n",
              "      <th>action</th>\n",
              "      <th>science fiction</th>\n",
              "    </tr>\n",
              "  </thead>\n",
              "  <tbody>\n",
              "    <tr>\n",
              "      <th>western</th>\n",
              "      <td>80</td>\n",
              "      <td>2</td>\n",
              "      <td>5</td>\n",
              "      <td>3</td>\n",
              "      <td>0</td>\n",
              "      <td>3</td>\n",
              "      <td>0</td>\n",
              "      <td>1</td>\n",
              "      <td>0</td>\n",
              "    </tr>\n",
              "    <tr>\n",
              "      <th>comedy</th>\n",
              "      <td>1</td>\n",
              "      <td>40</td>\n",
              "      <td>23</td>\n",
              "      <td>6</td>\n",
              "      <td>1</td>\n",
              "      <td>7</td>\n",
              "      <td>8</td>\n",
              "      <td>7</td>\n",
              "      <td>1</td>\n",
              "    </tr>\n",
              "    <tr>\n",
              "      <th>drama</th>\n",
              "      <td>0</td>\n",
              "      <td>19</td>\n",
              "      <td>45</td>\n",
              "      <td>9</td>\n",
              "      <td>5</td>\n",
              "      <td>8</td>\n",
              "      <td>7</td>\n",
              "      <td>4</td>\n",
              "      <td>0</td>\n",
              "    </tr>\n",
              "    <tr>\n",
              "      <th>adventure</th>\n",
              "      <td>2</td>\n",
              "      <td>5</td>\n",
              "      <td>12</td>\n",
              "      <td>54</td>\n",
              "      <td>1</td>\n",
              "      <td>3</td>\n",
              "      <td>3</td>\n",
              "      <td>5</td>\n",
              "      <td>0</td>\n",
              "    </tr>\n",
              "    <tr>\n",
              "      <th>horror</th>\n",
              "      <td>1</td>\n",
              "      <td>2</td>\n",
              "      <td>8</td>\n",
              "      <td>5</td>\n",
              "      <td>60</td>\n",
              "      <td>15</td>\n",
              "      <td>1</td>\n",
              "      <td>4</td>\n",
              "      <td>4</td>\n",
              "    </tr>\n",
              "    <tr>\n",
              "      <th>thriller</th>\n",
              "      <td>0</td>\n",
              "      <td>14</td>\n",
              "      <td>13</td>\n",
              "      <td>8</td>\n",
              "      <td>13</td>\n",
              "      <td>37</td>\n",
              "      <td>0</td>\n",
              "      <td>10</td>\n",
              "      <td>3</td>\n",
              "    </tr>\n",
              "    <tr>\n",
              "      <th>musical</th>\n",
              "      <td>2</td>\n",
              "      <td>18</td>\n",
              "      <td>18</td>\n",
              "      <td>7</td>\n",
              "      <td>0</td>\n",
              "      <td>0</td>\n",
              "      <td>52</td>\n",
              "      <td>1</td>\n",
              "      <td>0</td>\n",
              "    </tr>\n",
              "    <tr>\n",
              "      <th>action</th>\n",
              "      <td>0</td>\n",
              "      <td>1</td>\n",
              "      <td>2</td>\n",
              "      <td>15</td>\n",
              "      <td>3</td>\n",
              "      <td>9</td>\n",
              "      <td>0</td>\n",
              "      <td>53</td>\n",
              "      <td>0</td>\n",
              "    </tr>\n",
              "    <tr>\n",
              "      <th>science fiction</th>\n",
              "      <td>0</td>\n",
              "      <td>5</td>\n",
              "      <td>3</td>\n",
              "      <td>3</td>\n",
              "      <td>8</td>\n",
              "      <td>4</td>\n",
              "      <td>0</td>\n",
              "      <td>10</td>\n",
              "      <td>67</td>\n",
              "    </tr>\n",
              "  </tbody>\n",
              "</table>\n",
              "</div>\n",
              "      <button class=\"colab-df-convert\" onclick=\"convertToInteractive('df-b51c9b03-c31c-42a5-89d4-d901e5061078')\"\n",
              "              title=\"Convert this dataframe to an interactive table.\"\n",
              "              style=\"display:none;\">\n",
              "        \n",
              "  <svg xmlns=\"http://www.w3.org/2000/svg\" height=\"24px\"viewBox=\"0 0 24 24\"\n",
              "       width=\"24px\">\n",
              "    <path d=\"M0 0h24v24H0V0z\" fill=\"none\"/>\n",
              "    <path d=\"M18.56 5.44l.94 2.06.94-2.06 2.06-.94-2.06-.94-.94-2.06-.94 2.06-2.06.94zm-11 1L8.5 8.5l.94-2.06 2.06-.94-2.06-.94L8.5 2.5l-.94 2.06-2.06.94zm10 10l.94 2.06.94-2.06 2.06-.94-2.06-.94-.94-2.06-.94 2.06-2.06.94z\"/><path d=\"M17.41 7.96l-1.37-1.37c-.4-.4-.92-.59-1.43-.59-.52 0-1.04.2-1.43.59L10.3 9.45l-7.72 7.72c-.78.78-.78 2.05 0 2.83L4 21.41c.39.39.9.59 1.41.59.51 0 1.02-.2 1.41-.59l7.78-7.78 2.81-2.81c.8-.78.8-2.07 0-2.86zM5.41 20L4 18.59l7.72-7.72 1.47 1.35L5.41 20z\"/>\n",
              "  </svg>\n",
              "      </button>\n",
              "      \n",
              "  <style>\n",
              "    .colab-df-container {\n",
              "      display:flex;\n",
              "      flex-wrap:wrap;\n",
              "      gap: 12px;\n",
              "    }\n",
              "\n",
              "    .colab-df-convert {\n",
              "      background-color: #E8F0FE;\n",
              "      border: none;\n",
              "      border-radius: 50%;\n",
              "      cursor: pointer;\n",
              "      display: none;\n",
              "      fill: #1967D2;\n",
              "      height: 32px;\n",
              "      padding: 0 0 0 0;\n",
              "      width: 32px;\n",
              "    }\n",
              "\n",
              "    .colab-df-convert:hover {\n",
              "      background-color: #E2EBFA;\n",
              "      box-shadow: 0px 1px 2px rgba(60, 64, 67, 0.3), 0px 1px 3px 1px rgba(60, 64, 67, 0.15);\n",
              "      fill: #174EA6;\n",
              "    }\n",
              "\n",
              "    [theme=dark] .colab-df-convert {\n",
              "      background-color: #3B4455;\n",
              "      fill: #D2E3FC;\n",
              "    }\n",
              "\n",
              "    [theme=dark] .colab-df-convert:hover {\n",
              "      background-color: #434B5C;\n",
              "      box-shadow: 0px 1px 3px 1px rgba(0, 0, 0, 0.15);\n",
              "      filter: drop-shadow(0px 1px 2px rgba(0, 0, 0, 0.3));\n",
              "      fill: #FFFFFF;\n",
              "    }\n",
              "  </style>\n",
              "\n",
              "      <script>\n",
              "        const buttonEl =\n",
              "          document.querySelector('#df-b51c9b03-c31c-42a5-89d4-d901e5061078 button.colab-df-convert');\n",
              "        buttonEl.style.display =\n",
              "          google.colab.kernel.accessAllowed ? 'block' : 'none';\n",
              "\n",
              "        async function convertToInteractive(key) {\n",
              "          const element = document.querySelector('#df-b51c9b03-c31c-42a5-89d4-d901e5061078');\n",
              "          const dataTable =\n",
              "            await google.colab.kernel.invokeFunction('convertToInteractive',\n",
              "                                                     [key], {});\n",
              "          if (!dataTable) return;\n",
              "\n",
              "          const docLinkHtml = 'Like what you see? Visit the ' +\n",
              "            '<a target=\"_blank\" href=https://colab.research.google.com/notebooks/data_table.ipynb>data table notebook</a>'\n",
              "            + ' to learn more about interactive tables.';\n",
              "          element.innerHTML = '';\n",
              "          dataTable['output_type'] = 'display_data';\n",
              "          await google.colab.output.renderOutput(dataTable, element);\n",
              "          const docLink = document.createElement('div');\n",
              "          docLink.innerHTML = docLinkHtml;\n",
              "          element.appendChild(docLink);\n",
              "        }\n",
              "      </script>\n",
              "    </div>\n",
              "  </div>\n",
              "  "
            ]
          },
          "metadata": {},
          "execution_count": 42
        }
      ]
    },
    {
      "cell_type": "code",
      "source": [
        "# Kind of misc. code, this will output a dictionary with the entire corpus and the feature matrix value that each word receives.\n",
        "idf = vectorizer.idf_\n",
        "dictionary = dict(zip(vectorizer.get_feature_names(), idf))\n",
        "{k: v for k, v in sorted(dictionary.items(), key=lambda item: item[1], reverse = True)}"
      ],
      "metadata": {
        "colab": {
          "base_uri": "https://localhost:8080/"
        },
        "id": "ZsqGZtGG_hML",
        "outputId": "84199c0a-17a1-46d9-95a4-7f526dd23de1"
      },
      "execution_count": null,
      "outputs": [
        {
          "output_type": "stream",
          "name": "stderr",
          "text": [
            "/usr/local/lib/python3.7/dist-packages/sklearn/utils/deprecation.py:87: FutureWarning: Function get_feature_names is deprecated; get_feature_names is deprecated in 1.0 and will be removed in 1.2. Please use get_feature_names_out instead.\n",
            "  warnings.warn(msg, category=FutureWarning)\n"
          ]
        },
        {
          "output_type": "execute_result",
          "data": {
            "text/plain": [
              "{'00am': 8.436617265234226,\n",
              " '012': 8.436617265234226,\n",
              " '03': 8.436617265234226,\n",
              " '033': 8.436617265234226,\n",
              " '04': 8.436617265234226,\n",
              " '05': 8.436617265234226,\n",
              " '05pm': 8.436617265234226,\n",
              " '07': 8.436617265234226,\n",
              " '09': 8.436617265234226,\n",
              " '1000th': 8.436617265234226,\n",
              " '100km': 8.436617265234226,\n",
              " '100th': 8.436617265234226,\n",
              " '1011': 8.436617265234226,\n",
              " '1101': 8.436617265234226,\n",
              " '111': 8.436617265234226,\n",
              " '112': 8.436617265234226,\n",
              " '1127': 8.436617265234226,\n",
              " '1138': 8.436617265234226,\n",
              " '114': 8.436617265234226,\n",
              " '117': 8.436617265234226,\n",
              " '119b': 8.436617265234226,\n",
              " '120': 8.436617265234226,\n",
              " '1200': 8.436617265234226,\n",
              " '121': 8.436617265234226,\n",
              " '1249': 8.436617265234226,\n",
              " '125': 8.436617265234226,\n",
              " '125th': 8.436617265234226,\n",
              " '127': 8.436617265234226,\n",
              " '128': 8.436617265234226,\n",
              " '1290': 8.436617265234226,\n",
              " '12m': 8.436617265234226,\n",
              " '1332': 8.436617265234226,\n",
              " '134': 8.436617265234226,\n",
              " '136': 8.436617265234226,\n",
              " '140': 8.436617265234226,\n",
              " '1401': 8.436617265234226,\n",
              " '1408': 8.436617265234226,\n",
              " '1422': 8.436617265234226,\n",
              " '144': 8.436617265234226,\n",
              " '1455': 8.436617265234226,\n",
              " '1461': 8.436617265234226,\n",
              " '1462': 8.436617265234226,\n",
              " '1469': 8.436617265234226,\n",
              " '1470': 8.436617265234226,\n",
              " '1483': 8.436617265234226,\n",
              " '1487': 8.436617265234226,\n",
              " '14a': 8.436617265234226,\n",
              " '14k': 8.436617265234226,\n",
              " '14s': 8.436617265234226,\n",
              " '1500': 8.436617265234226,\n",
              " '1508': 8.436617265234226,\n",
              " '151st': 8.436617265234226,\n",
              " '152': 8.436617265234226,\n",
              " '1536': 8.436617265234226,\n",
              " '1555': 8.436617265234226,\n",
              " '1560': 8.436617265234226,\n",
              " '1593': 8.436617265234226,\n",
              " '15a': 8.436617265234226,\n",
              " '15s': 8.436617265234226,\n",
              " '1600': 8.436617265234226,\n",
              " '1614': 8.436617265234226,\n",
              " '162': 8.436617265234226,\n",
              " '1627': 8.436617265234226,\n",
              " '1638': 8.436617265234226,\n",
              " '1645': 8.436617265234226,\n",
              " '1648': 8.436617265234226,\n",
              " '1660': 8.436617265234226,\n",
              " '1670': 8.436617265234226,\n",
              " '1673': 8.436617265234226,\n",
              " '1690': 8.436617265234226,\n",
              " '1692': 8.436617265234226,\n",
              " '1699': 8.436617265234226,\n",
              " '16c': 8.436617265234226,\n",
              " '1713': 8.436617265234226,\n",
              " '1714': 8.436617265234226,\n",
              " '173': 8.436617265234226,\n",
              " '174': 8.436617265234226,\n",
              " '1740s': 8.436617265234226,\n",
              " '1745': 8.436617265234226,\n",
              " '1747': 8.436617265234226,\n",
              " '175': 8.436617265234226,\n",
              " '1750': 8.436617265234226,\n",
              " '1759': 8.436617265234226,\n",
              " '1760s': 8.436617265234226,\n",
              " '1765': 8.436617265234226,\n",
              " '1770s': 8.436617265234226,\n",
              " '1775': 8.436617265234226,\n",
              " '1777': 8.436617265234226,\n",
              " '178': 8.436617265234226,\n",
              " '1780': 8.436617265234226,\n",
              " '1788': 8.436617265234226,\n",
              " '1789': 8.436617265234226,\n",
              " '1791': 8.436617265234226,\n",
              " '1792': 8.436617265234226,\n",
              " '1794': 8.436617265234226,\n",
              " '1795': 8.436617265234226,\n",
              " '1798': 8.436617265234226,\n",
              " '1803': 8.436617265234226,\n",
              " '1804': 8.436617265234226,\n",
              " '1808': 8.436617265234226,\n",
              " '1811': 8.436617265234226,\n",
              " '1812': 8.436617265234226,\n",
              " '1814': 8.436617265234226,\n",
              " '1817': 8.436617265234226,\n",
              " '1820': 8.436617265234226,\n",
              " '1820s': 8.436617265234226,\n",
              " '1821': 8.436617265234226,\n",
              " '1823': 8.436617265234226,\n",
              " '1827': 8.436617265234226,\n",
              " '1828': 8.436617265234226,\n",
              " '1830': 8.436617265234226,\n",
              " '1830s': 8.436617265234226,\n",
              " '1834': 8.436617265234226,\n",
              " '1836': 8.436617265234226,\n",
              " '1842': 8.436617265234226,\n",
              " '1843': 8.436617265234226,\n",
              " '1846': 8.436617265234226,\n",
              " '1847': 8.436617265234226,\n",
              " '1850s': 8.436617265234226,\n",
              " '1851': 8.436617265234226,\n",
              " '1854': 8.436617265234226,\n",
              " '1857': 8.436617265234226,\n",
              " '1860s': 8.436617265234226,\n",
              " '1869': 8.436617265234226,\n",
              " '1873': 8.436617265234226,\n",
              " '1874': 8.436617265234226,\n",
              " '1876': 8.436617265234226,\n",
              " '1878': 8.436617265234226,\n",
              " '1887': 8.436617265234226,\n",
              " '1888': 8.436617265234226,\n",
              " '1891': 8.436617265234226,\n",
              " '1894': 8.436617265234226,\n",
              " '1899': 8.436617265234226,\n",
              " '18s': 8.436617265234226,\n",
              " '1903': 8.436617265234226,\n",
              " '1908': 8.436617265234226,\n",
              " '1909': 8.436617265234226,\n",
              " '191': 8.436617265234226,\n",
              " '1910s': 8.436617265234226,\n",
              " '1915': 8.436617265234226,\n",
              " '1918': 8.436617265234226,\n",
              " '1922': 8.436617265234226,\n",
              " '1925': 8.436617265234226,\n",
              " '1934': 8.436617265234226,\n",
              " '195': 8.436617265234226,\n",
              " '1968': 8.436617265234226,\n",
              " '1s': 8.436617265234226,\n",
              " '2017': 8.436617265234226,\n",
              " '2018': 8.436617265234226,\n",
              " '2019': 8.436617265234226,\n",
              " '2021': 8.436617265234226,\n",
              " '2026': 8.436617265234226,\n",
              " '2027': 8.436617265234226,\n",
              " '2028': 8.436617265234226,\n",
              " '2030': 8.436617265234226,\n",
              " '2031': 8.436617265234226,\n",
              " '2032': 8.436617265234226,\n",
              " '2037': 8.436617265234226,\n",
              " '2041': 8.436617265234226,\n",
              " '2043': 8.436617265234226,\n",
              " '2044': 8.436617265234226,\n",
              " '2047': 8.436617265234226,\n",
              " '2048': 8.436617265234226,\n",
              " '2049': 8.436617265234226,\n",
              " '2050': 8.436617265234226,\n",
              " '2054': 8.436617265234226,\n",
              " '2055': 8.436617265234226,\n",
              " '2056': 8.436617265234226,\n",
              " '2057': 8.436617265234226,\n",
              " '2058': 8.436617265234226,\n",
              " '206': 8.436617265234226,\n",
              " '2063': 8.436617265234226,\n",
              " '2070': 8.436617265234226,\n",
              " '2072': 8.436617265234226,\n",
              " '2079': 8.436617265234226,\n",
              " '2080': 8.436617265234226,\n",
              " '2080s': 8.436617265234226,\n",
              " '2090': 8.436617265234226,\n",
              " '20mm': 8.436617265234226,\n",
              " '2100': 8.436617265234226,\n",
              " '21214': 8.436617265234226,\n",
              " '2176': 8.436617265234226,\n",
              " '2188': 8.436617265234226,\n",
              " '220': 8.436617265234226,\n",
              " '221b': 8.436617265234226,\n",
              " '223': 8.436617265234226,\n",
              " '2263': 8.436617265234226,\n",
              " '2271': 8.436617265234226,\n",
              " '2274': 8.436617265234226,\n",
              " '2285': 8.436617265234226,\n",
              " '2286': 8.436617265234226,\n",
              " '229': 8.436617265234226,\n",
              " '2293': 8.436617265234226,\n",
              " '235': 8.436617265234226,\n",
              " '2371': 8.436617265234226,\n",
              " '2379': 8.436617265234226,\n",
              " '238': 8.436617265234226,\n",
              " '241': 8.436617265234226,\n",
              " '2415': 8.436617265234226,\n",
              " '242': 8.436617265234226,\n",
              " '2440': 8.436617265234226,\n",
              " '2454': 8.436617265234226,\n",
              " '2455': 8.436617265234226,\n",
              " '247': 8.436617265234226,\n",
              " '24th': 8.436617265234226,\n",
              " '2500': 8.436617265234226,\n",
              " '2508': 8.436617265234226,\n",
              " '260': 8.436617265234226,\n",
              " '262': 8.436617265234226,\n",
              " '2670': 8.436617265234226,\n",
              " '26d': 8.436617265234226,\n",
              " '282': 8.436617265234226,\n",
              " '287': 8.436617265234226,\n",
              " '293rd': 8.436617265234226,\n",
              " '2945': 8.436617265234226,\n",
              " '29s': 8.436617265234226,\n",
              " '2x4': 8.436617265234226,\n",
              " '300th': 8.436617265234226,\n",
              " '305': 8.436617265234226,\n",
              " '3067': 8.436617265234226,\n",
              " '30bpm': 8.436617265234226,\n",
              " '30pm': 8.436617265234226,\n",
              " '30th': 8.436617265234226,\n",
              " '314': 8.436617265234226,\n",
              " '323i': 8.436617265234226,\n",
              " '325': 8.436617265234226,\n",
              " '326': 8.436617265234226,\n",
              " '330': 8.436617265234226,\n",
              " '3417': 8.436617265234226,\n",
              " '343': 8.436617265234226,\n",
              " '3465': 8.436617265234226,\n",
              " '351': 8.436617265234226,\n",
              " '358': 8.436617265234226,\n",
              " '360': 8.436617265234226,\n",
              " '375': 8.436617265234226,\n",
              " '377': 8.436617265234226,\n",
              " '379': 8.436617265234226,\n",
              " '3978': 8.436617265234226,\n",
              " '404': 8.436617265234226,\n",
              " '41': 8.436617265234226,\n",
              " '410': 8.436617265234226,\n",
              " '412': 8.436617265234226,\n",
              " '415': 8.436617265234226,\n",
              " '427': 8.436617265234226,\n",
              " '442': 8.436617265234226,\n",
              " '445': 8.436617265234226,\n",
              " '4473': 8.436617265234226,\n",
              " '44th': 8.436617265234226,\n",
              " '454': 8.436617265234226,\n",
              " '45th': 8.436617265234226,\n",
              " '461': 8.436617265234226,\n",
              " '467': 8.436617265234226,\n",
              " '474': 8.436617265234226,\n",
              " '47s': 8.436617265234226,\n",
              " '4800': 8.436617265234226,\n",
              " '481': 8.436617265234226,\n",
              " '49': 8.436617265234226,\n",
              " '496': 8.436617265234226,\n",
              " '4pm': 8.436617265234226,\n",
              " '4wd': 8.436617265234226,\n",
              " '502': 8.436617265234226,\n",
              " '5021': 8.436617265234226,\n",
              " '50s': 8.436617265234226,\n",
              " '512': 8.436617265234226,\n",
              " '5241': 8.436617265234226,\n",
              " '52nd': 8.436617265234226,\n",
              " '53': 8.436617265234226,\n",
              " '54': 8.436617265234226,\n",
              " '543': 8.436617265234226,\n",
              " '555': 8.436617265234226,\n",
              " '560sec': 8.436617265234226,\n",
              " '571': 8.436617265234226,\n",
              " '5752': 8.436617265234226,\n",
              " '57d': 8.436617265234226,\n",
              " '57th': 8.436617265234226,\n",
              " '5¼': 8.436617265234226,\n",
              " '6000': 8.436617265234226,\n",
              " '607': 8.436617265234226,\n",
              " '60j': 8.436617265234226,\n",
              " '612': 8.436617265234226,\n",
              " '635': 8.436617265234226,\n",
              " '661': 8.436617265234226,\n",
              " '663': 8.436617265234226,\n",
              " '66691': 8.436617265234226,\n",
              " '67': 8.436617265234226,\n",
              " '68': 8.436617265234226,\n",
              " '69': 8.436617265234226,\n",
              " '6b': 8.436617265234226,\n",
              " '6bs': 8.436617265234226,\n",
              " '6th': 8.436617265234226,\n",
              " '710': 8.436617265234226,\n",
              " '71st': 8.436617265234226,\n",
              " '735i': 8.436617265234226,\n",
              " '74': 8.436617265234226,\n",
              " '747sp': 8.436617265234226,\n",
              " '748': 8.436617265234226,\n",
              " '751': 8.436617265234226,\n",
              " '75th': 8.436617265234226,\n",
              " '789': 8.436617265234226,\n",
              " '79': 8.436617265234226,\n",
              " '791': 8.436617265234226,\n",
              " '800m': 8.436617265234226,\n",
              " '80s': 8.436617265234226,\n",
              " '810': 8.436617265234226,\n",
              " '815508': 8.436617265234226,\n",
              " '82': 8.436617265234226,\n",
              " '850': 8.436617265234226,\n",
              " '85th': 8.436617265234226,\n",
              " '87': 8.436617265234226,\n",
              " '882': 8.436617265234226,\n",
              " '88888': 8.436617265234226,\n",
              " '89': 8.436617265234226,\n",
              " '910': 8.436617265234226,\n",
              " '917': 8.436617265234226,\n",
              " '92': 8.436617265234226,\n",
              " '94': 8.436617265234226,\n",
              " '96th': 8.436617265234226,\n",
              " '98': 8.436617265234226,\n",
              " '999': 8.436617265234226,\n",
              " '9am': 8.436617265234226,\n",
              " '9c': 8.436617265234226,\n",
              " '9pm': 8.436617265234226,\n",
              " 'a40': 8.436617265234226,\n",
              " 'a6m': 8.436617265234226,\n",
              " 'a8': 8.436617265234226,\n",
              " 'aaker': 8.436617265234226,\n",
              " 'aalto': 8.436617265234226,\n",
              " 'aardvark': 8.436617265234226,\n",
              " 'aasif': 8.436617265234226,\n",
              " 'ab': 8.436617265234226,\n",
              " 'aba': 8.436617265234226,\n",
              " 'ababu': 8.436617265234226,\n",
              " 'abaddon': 8.436617265234226,\n",
              " 'abagail': 8.436617265234226,\n",
              " 'abalam': 8.436617265234226,\n",
              " 'abani': 8.436617265234226,\n",
              " 'abashed': 8.436617265234226,\n",
              " 'abattoir': 8.436617265234226,\n",
              " 'abbess': 8.436617265234226,\n",
              " 'abbreviation': 8.436617265234226,\n",
              " 'abdic': 8.436617265234226,\n",
              " 'abdoman': 8.436617265234226,\n",
              " 'abdomens': 8.436617265234226,\n",
              " 'abdulmalik': 8.436617265234226,\n",
              " 'abecedarios': 8.436617265234226,\n",
              " 'abed': 8.436617265234226,\n",
              " 'abellard': 8.436617265234226,\n",
              " 'abenakis': 8.436617265234226,\n",
              " 'abensburg': 8.436617265234226,\n",
              " 'abercromby': 8.436617265234226,\n",
              " 'aberline': 8.436617265234226,\n",
              " 'abernathy': 8.436617265234226,\n",
              " 'abetted': 8.436617265234226,\n",
              " 'abettor': 8.436617265234226,\n",
              " 'abiocor': 8.436617265234226,\n",
              " 'abital': 8.436617265234226,\n",
              " 'abkarian': 8.436617265234226,\n",
              " 'ables': 8.436617265234226,\n",
              " 'ablixa': 8.436617265234226,\n",
              " 'abnegations': 8.436617265234226,\n",
              " 'abney': 8.436617265234226,\n",
              " 'abnormality': 8.436617265234226,\n",
              " 'abode': 8.436617265234226,\n",
              " 'abolitionist': 8.436617265234226,\n",
              " 'abominations': 8.436617265234226,\n",
              " 'aborigine': 8.436617265234226,\n",
              " 'abortive': 8.436617265234226,\n",
              " 'abrams': 8.436617265234226,\n",
              " 'abruptness': 8.436617265234226,\n",
              " 'abruzzo': 8.436617265234226,\n",
              " 'absences': 8.436617265234226,\n",
              " 'absinthe': 8.436617265234226,\n",
              " 'absolution': 8.436617265234226,\n",
              " 'absolved': 8.436617265234226,\n",
              " 'absolves': 8.436617265234226,\n",
              " 'abstain': 8.436617265234226,\n",
              " 'abstaining': 8.436617265234226,\n",
              " 'abstains': 8.436617265234226,\n",
              " 'abstention': 8.436617265234226,\n",
              " 'abstinence': 8.436617265234226,\n",
              " 'abstract': 8.436617265234226,\n",
              " 'absurdity': 8.436617265234226,\n",
              " 'absymal': 8.436617265234226,\n",
              " 'abuzz': 8.436617265234226,\n",
              " 'abydos': 8.436617265234226,\n",
              " 'ac': 8.436617265234226,\n",
              " 'academia': 8.436617265234226,\n",
              " 'academically': 8.436617265234226,\n",
              " 'accede': 8.436617265234226,\n",
              " 'accedes': 8.436617265234226,\n",
              " 'accentuated': 8.436617265234226,\n",
              " 'accessible': 8.436617265234226,\n",
              " 'acclimation': 8.436617265234226,\n",
              " 'accolades': 8.436617265234226,\n",
              " 'accommodating': 8.436617265234226,\n",
              " 'accommodations': 8.436617265234226,\n",
              " 'accomplishes': 8.436617265234226,\n",
              " 'accordionist': 8.436617265234226,\n",
              " 'accords': 8.436617265234226,\n",
              " 'accost': 8.436617265234226,\n",
              " 'accountability': 8.436617265234226,\n",
              " 'accountants': 8.436617265234226,\n",
              " 'accounted': 8.436617265234226,\n",
              " 'accounting': 8.436617265234226,\n",
              " 'accredits': 8.436617265234226,\n",
              " 'accumulates': 8.436617265234226,\n",
              " 'accumulator': 8.436617265234226,\n",
              " 'accurately': 8.436617265234226,\n",
              " 'accursed': 8.436617265234226,\n",
              " 'accuser': 8.436617265234226,\n",
              " 'accusingly': 8.436617265234226,\n",
              " 'accustom': 8.436617265234226,\n",
              " 'acepromazine': 8.436617265234226,\n",
              " 'acetate': 8.436617265234226,\n",
              " 'achievers': 8.436617265234226,\n",
              " 'acidalia': 8.436617265234226,\n",
              " 'acidity': 8.436617265234226,\n",
              " 'acme': 8.436617265234226,\n",
              " 'acolyte': 8.436617265234226,\n",
              " 'acolytes': 8.436617265234226,\n",
              " 'acord': 8.436617265234226,\n",
              " 'acp': 8.436617265234226,\n",
              " 'acquaints': 8.436617265234226,\n",
              " 'acquanetta': 8.436617265234226,\n",
              " 'acquiescence': 8.436617265234226,\n",
              " 'acquisition': 8.436617265234226,\n",
              " 'acquisitions': 8.436617265234226,\n",
              " 'acquit': 8.436617265234226,\n",
              " 'acquitting': 8.436617265234226,\n",
              " 'acrimoniously': 8.436617265234226,\n",
              " 'acrobats': 8.436617265234226,\n",
              " 'acromegalic': 8.436617265234226,\n",
              " 'acronyms': 8.436617265234226,\n",
              " 'acrophobic': 8.436617265234226,\n",
              " 'acropolis': 8.436617265234226,\n",
              " 'acrylic': 8.436617265234226,\n",
              " 'acs': 8.436617265234226,\n",
              " 'acte': 8.436617265234226,\n",
              " 'activism': 8.436617265234226,\n",
              " 'acton': 8.436617265234226,\n",
              " 'actualized': 8.436617265234226,\n",
              " 'acuff': 8.436617265234226,\n",
              " 'acumen': 8.436617265234226,\n",
              " 'acutely': 8.436617265234226,\n",
              " 'ada': 8.436617265234226,\n",
              " 'adad': 8.436617265234226,\n",
              " 'adah': 8.436617265234226,\n",
              " 'adamsky': 8.436617265234226,\n",
              " 'adani': 8.436617265234226,\n",
              " 'adapter': 8.436617265234226,\n",
              " 'adare': 8.436617265234226,\n",
              " 'addai': 8.436617265234226,\n",
              " 'adderall': 8.436617265234226,\n",
              " 'addictions': 8.436617265234226,\n",
              " 'addie': 8.436617265234226,\n",
              " 'addington': 8.436617265234226,\n",
              " 'addley': 8.436617265234226,\n",
              " 'adelaid': 8.436617265234226,\n",
              " 'adele': 8.436617265234226,\n",
              " 'adem': 8.436617265234226,\n",
              " 'adept': 8.436617265234226,\n",
              " 'adewale': 8.436617265234226,\n",
              " 'adhemar': 8.436617265234226,\n",
              " 'adhered': 8.436617265234226,\n",
              " 'adherence': 8.436617265234226,\n",
              " 'adherent': 8.436617265234226,\n",
              " 'adina': 8.436617265234226,\n",
              " 'adios': 8.436617265234226,\n",
              " 'adirondack': 8.436617265234226,\n",
              " 'adirondacks': 8.436617265234226,\n",
              " 'adjourned': 8.436617265234226,\n",
              " 'adjourns': 8.436617265234226,\n",
              " 'adjuster': 8.436617265234226,\n",
              " 'adlai': 8.436617265234226,\n",
              " 'admin': 8.436617265234226,\n",
              " 'admonish': 8.436617265234226,\n",
              " 'admonishing': 8.436617265234226,\n",
              " 'admonitions': 8.436617265234226,\n",
              " 'ado': 8.436617265234226,\n",
              " 'adolescents': 8.436617265234226,\n",
              " 'adolfo': 8.436617265234226,\n",
              " 'adolph': 8.436617265234226,\n",
              " 'adolpho': 8.436617265234226,\n",
              " 'adorée': 8.436617265234226,\n",
              " 'adoti': 8.436617265234226,\n",
              " 'adragon': 8.436617265234226,\n",
              " 'adulterers': 8.436617265234226,\n",
              " 'advantageous': 8.436617265234226,\n",
              " 'adventuring': 8.436617265234226,\n",
              " 'adverse': 8.436617265234226,\n",
              " 'advertiser': 8.436617265234226,\n",
              " 'advertises': 8.436617265234226,\n",
              " 'advisors': 8.436617265234226,\n",
              " 'advocacy': 8.436617265234226,\n",
              " 'advocates': 8.436617265234226,\n",
              " 'aec': 8.436617265234226,\n",
              " 'aella': 8.436617265234226,\n",
              " 'aeneas': 8.436617265234226,\n",
              " 'aeolian': 8.436617265234226,\n",
              " 'aeolus': 8.436617265234226,\n",
              " 'aereon': 8.436617265234226,\n",
              " 'aero': 8.436617265234226,\n",
              " 'aerobatics': 8.436617265234226,\n",
              " 'aerosmith': 8.436617265234226,\n",
              " 'aerosols': 8.436617265234226,\n",
              " 'aeryk': 8.436617265234226,\n",
              " 'aesha': 8.436617265234226,\n",
              " 'aesir': 8.436617265234226,\n",
              " 'af': 8.436617265234226,\n",
              " 'afc': 8.436617265234226,\n",
              " 'affiliate': 8.436617265234226,\n",
              " 'affiliation': 8.436617265234226,\n",
              " 'affiliations': 8.436617265234226,\n",
              " 'affirmative': 8.436617265234226,\n",
              " 'affix': 8.436617265234226,\n",
              " 'affixed': 8.436617265234226,\n",
              " 'affleck': 8.436617265234226,\n",
              " 'afflicting': 8.436617265234226,\n",
              " 'affliction': 8.436617265234226,\n",
              " 'affordable': 8.436617265234226,\n",
              " 'afghan': 8.436617265234226,\n",
              " 'afghani': 8.436617265234226,\n",
              " 'afi': 8.436617265234226,\n",
              " 'afield': 8.436617265234226,\n",
              " 'afl': 8.436617265234226,\n",
              " 'afn': 8.436617265234226,\n",
              " 'afo': 8.436617265234226,\n",
              " 'aforesaid': 8.436617265234226,\n",
              " 'afro': 8.436617265234226,\n",
              " 'afterburners': 8.436617265234226,\n",
              " 'afterparty': 8.436617265234226,\n",
              " 'aftershocks': 8.436617265234226,\n",
              " 'afterwords': 8.436617265234226,\n",
              " 'afzel': 8.436617265234226,\n",
              " 'agarwal': 8.436617265234226,\n",
              " 'agbaje': 8.436617265234226,\n",
              " 'agbayani': 8.436617265234226,\n",
              " 'ageing': 8.436617265234226,\n",
              " 'agera': 8.436617265234226,\n",
              " 'aggravate': 8.436617265234226,\n",
              " 'aggravates': 8.436617265234226,\n",
              " 'aggravation': 8.436617265234226,\n",
              " 'aggressiveness': 8.436617265234226,\n",
              " 'aggressor': 8.436617265234226,\n",
              " 'agitatedly': 8.436617265234226,\n",
              " 'agius': 8.436617265234226,\n",
              " 'aglow': 8.436617265234226,\n",
              " 'agnew': 8.436617265234226,\n",
              " 'agnos': 8.436617265234226,\n",
              " 'agon': 8.436617265234226,\n",
              " 'agonising': 8.436617265234226,\n",
              " 'agonize': 8.436617265234226,\n",
              " 'agonized': 8.436617265234226,\n",
              " 'agor': 8.436617265234226,\n",
              " 'agosta': 8.436617265234226,\n",
              " 'agreeable': 8.436617265234226,\n",
              " 'agrippa': 8.436617265234226,\n",
              " 'agron': 8.436617265234226,\n",
              " 'agronsky': 8.436617265234226,\n",
              " 'agu': 8.436617265234226,\n",
              " 'aguilera': 8.436617265234226,\n",
              " 'aguinaldo': 8.436617265234226,\n",
              " 'agustawestland': 8.436617265234226,\n",
              " 'agustin': 8.436617265234226,\n",
              " 'agutter': 8.436617265234226,\n",
              " 'ah': 8.436617265234226,\n",
              " 'ahab': 8.436617265234226,\n",
              " 'ahdar': 8.436617265234226,\n",
              " 'ahkmid': 8.436617265234226,\n",
              " 'ahm': 8.436617265234226,\n",
              " 'ahmi': 8.436617265234226,\n",
              " 'ahura': 8.436617265234226,\n",
              " 'aickman': 8.436617265234226,\n",
              " 'aida': 8.436617265234226,\n",
              " 'aiden': 8.436617265234226,\n",
              " 'aiken': 8.436617265234226,\n",
              " 'aileen': 8.436617265234226,\n",
              " 'ailments': 8.436617265234226,\n",
              " 'ainslee': 8.436617265234226,\n",
              " 'ainsley': 8.436617265234226,\n",
              " 'ainswell': 8.436617265234226,\n",
              " 'aiong': 8.436617265234226,\n",
              " 'airbag': 8.436617265234226,\n",
              " 'airbase': 8.436617265234226,\n",
              " 'airbnb': 8.436617265234226,\n",
              " 'airdrop': 8.436617265234226,\n",
              " 'airdropping': 8.436617265234226,\n",
              " 'aired': 8.436617265234226,\n",
              " 'airfoils': 8.436617265234226,\n",
              " 'airing': 8.436617265234226,\n",
              " 'airliners': 8.436617265234226,\n",
              " 'airlocks': 8.436617265234226,\n",
              " 'airphone': 8.436617265234226,\n",
              " 'airports': 8.436617265234226,\n",
              " 'airsoft': 8.436617265234226,\n",
              " 'airstreamer': 8.436617265234226,\n",
              " 'airtight': 8.436617265234226,\n",
              " 'airtruk': 8.436617265234226,\n",
              " 'airways': 8.436617265234226,\n",
              " 'airworthy': 8.436617265234226,\n",
              " 'aisles': 8.436617265234226,\n",
              " 'ajar': 8.436617265234226,\n",
              " 'ajedrez': 8.436617265234226,\n",
              " 'ajo': 8.436617265234226,\n",
              " 'ajor': 8.436617265234226,\n",
              " 'ak': 8.436617265234226,\n",
              " 'akat': 8.436617265234226,\n",
              " 'akator': 8.436617265234226,\n",
              " 'akhnaton': 8.436617265234226,\n",
              " 'aki': 8.436617265234226,\n",
              " 'akihiko': 8.436617265234226,\n",
              " 'akinnuoye': 8.436617265234226,\n",
              " 'akir': 8.436617265234226,\n",
              " 'akira': 8.436617265234226,\n",
              " 'akiro': 8.436617265234226,\n",
              " 'akkadians': 8.436617265234226,\n",
              " 'akron': 8.436617265234226,\n",
              " 'akrotiri': 8.436617265234226,\n",
              " 'ala': 8.436617265234226,\n",
              " 'alabam': 8.436617265234226,\n",
              " 'alacran': 8.436617265234226,\n",
              " 'alameda': 8.436617265234226,\n",
              " 'alameida': 8.436617265234226,\n",
              " 'alana': 8.436617265234226,\n",
              " 'alanna': 8.436617265234226,\n",
              " 'alarmingly': 8.436617265234226,\n",
              " 'alarmists': 8.436617265234226,\n",
              " 'alas': 8.436617265234226,\n",
              " 'alastair': 8.436617265234226,\n",
              " 'alava': 8.436617265234226,\n",
              " 'alaya': 8.436617265234226,\n",
              " 'albana': 8.436617265234226,\n",
              " 'albanese': 8.436617265234226,\n",
              " 'albanian': 8.436617265234226,\n",
              " 'albanians': 8.436617265234226,\n",
              " 'albans': 8.436617265234226,\n",
              " 'alberghetti': 8.436617265234226,\n",
              " 'alberni': 8.436617265234226,\n",
              " 'alberto': 8.436617265234226,\n",
              " 'albinoni': 8.436617265234226,\n",
              " 'albinos': 8.436617265234226,\n",
              " 'albrecht': 8.436617265234226,\n",
              " 'albufeira': 8.436617265234226,\n",
              " 'albumin': 8.436617265234226,\n",
              " 'alby': 8.436617265234226,\n",
              " 'alcaide': 8.436617265234226,\n",
              " 'alcatraz': 8.436617265234226,\n",
              " 'alcinous': 8.436617265234226,\n",
              " 'alcove': 8.436617265234226,\n",
              " 'alcutt': 8.436617265234226,\n",
              " 'aldar': 8.436617265234226,\n",
              " 'aldenham': 8.436617265234226,\n",
              " 'alderaan': 8.436617265234226,\n",
              " 'aldermaston': 8.436617265234226,\n",
              " 'aleck': 8.436617265234226,\n",
              " 'alecto': 8.436617265234226,\n",
              " 'aleera': 8.436617265234226,\n",
              " 'aleisha': 8.436617265234226,\n",
              " 'alejandro': 8.436617265234226,\n",
              " 'aleks': 8.436617265234226,\n",
              " 'aleksandr': 8.436617265234226,\n",
              " 'aleno': 8.436617265234226,\n",
              " 'aleong': 8.436617265234226,\n",
              " 'alesandra': 8.436617265234226,\n",
              " 'alesandro': 8.436617265234226,\n",
              " 'alessi': 8.436617265234226,\n",
              " 'aleut': 8.436617265234226,\n",
              " 'aleuts': 8.436617265234226,\n",
              " 'alexa': 8.436617265234226,\n",
              " 'alexanderplatz': 8.436617265234226,\n",
              " 'alexandre': 8.436617265234226,\n",
              " 'alexandria': 8.436617265234226,\n",
              " 'alexandrovna': 8.436617265234226,\n",
              " 'alexio': 8.436617265234226,\n",
              " 'alfalfa': 8.436617265234226,\n",
              " 'alferson': 8.436617265234226,\n",
              " 'alford': 8.436617265234226,\n",
              " 'alfre': 8.436617265234226,\n",
              " 'algae': 8.436617265234226,\n",
              " 'algebra': 8.436617265234226,\n",
              " 'algernon': 8.436617265234226,\n",
              " 'algiers': 8.436617265234226,\n",
              " 'algo': 8.436617265234226,\n",
              " 'algonquian': 8.436617265234226,\n",
              " 'algorithm': 8.436617265234226,\n",
              " 'algorithms': 8.436617265234226,\n",
              " 'alia': 8.436617265234226,\n",
              " 'alida': 8.436617265234226,\n",
              " 'alienate': 8.436617265234226,\n",
              " 'alienator': 8.436617265234226,\n",
              " 'alienist': 8.436617265234226,\n",
              " 'align': 8.436617265234226,\n",
              " 'alikes': 8.436617265234226,\n",
              " 'alister': 8.436617265234226,\n",
              " 'alix': 8.436617265234226,\n",
              " 'alla': 8.436617265234226,\n",
              " 'allanite': 8.436617265234226,\n",
              " 'allardyce': 8.436617265234226,\n",
              " 'allardyces': 8.436617265234226,\n",
              " 'allasio': 8.436617265234226,\n",
              " 'allbritton': 8.436617265234226,\n",
              " 'alldredge': 8.436617265234226,\n",
              " 'alleging': 8.436617265234226,\n",
              " 'allenbury': 8.436617265234226,\n",
              " 'allenburys': 8.436617265234226,\n",
              " 'allens': 8.436617265234226,\n",
              " 'allentown': 8.436617265234226,\n",
              " 'allenwood': 8.436617265234226,\n",
              " 'allenwoods': 8.436617265234226,\n",
              " 'allergies': 8.436617265234226,\n",
              " 'alleviated': 8.436617265234226,\n",
              " 'alleviating': 8.436617265234226,\n",
              " 'alleyn': 8.436617265234226,\n",
              " 'alleys': 8.436617265234226,\n",
              " 'alliances': 8.436617265234226,\n",
              " 'allister': 8.436617265234226,\n",
              " 'allosaurus': 8.436617265234226,\n",
              " 'allotted': 8.436617265234226,\n",
              " 'alloys': 8.436617265234226,\n",
              " 'allude': 8.436617265234226,\n",
              " 'alluringly': 8.436617265234226,\n",
              " 'allusion': 8.436617265234226,\n",
              " 'allusions': 8.436617265234226,\n",
              " 'almanac': 8.436617265234226,\n",
              " 'almeron': 8.436617265234226,\n",
              " 'almogavars': 8.436617265234226,\n",
              " 'almond': 8.436617265234226,\n",
              " 'almásy': 8.436617265234226,\n",
              " 'aloft': 8.436617265234226,\n",
              " 'aloma': 8.436617265234226,\n",
              " 'alongs': 8.436617265234226,\n",
              " 'alonso': 8.436617265234226,\n",
              " 'aloof': 8.436617265234226,\n",
              " 'aloofness': 8.436617265234226,\n",
              " 'alper': 8.436617265234226,\n",
              " 'alpes': 8.436617265234226,\n",
              " 'alphabetical': 8.436617265234226,\n",
              " 'alphabetically': 8.436617265234226,\n",
              " 'alphonse': 8.436617265234226,\n",
              " 'alphonso': 8.436617265234226,\n",
              " 'alpine': 8.436617265234226,\n",
              " 'als': 8.436617265234226,\n",
              " 'alsop': 8.436617265234226,\n",
              " 'alstyne': 8.436617265234226,\n",
              " 'altair': 8.436617265234226,\n",
              " 'altaira': 8.436617265234226,\n",
              " 'altamirano': 8.436617265234226,\n",
              " 'altercate': 8.436617265234226,\n",
              " 'alternates': 8.436617265234226,\n",
              " 'alternatively': 8.436617265234226,\n",
              " 'alternatives': 8.436617265234226,\n",
              " 'alternator': 8.436617265234226,\n",
              " 'althea': 8.436617265234226,\n",
              " 'altieri': 8.436617265234226,\n",
              " 'altitudes': 8.436617265234226,\n",
              " 'altman': 8.436617265234226,\n",
              " 'alto': 8.436617265234226,\n",
              " 'alucard': 8.436617265234226,\n",
              " 'aluminium': 8.436617265234226,\n",
              " 'aluminum': 8.436617265234226,\n",
              " 'alumna': 8.436617265234226,\n",
              " 'alumni': 8.436617265234226,\n",
              " 'alun': 8.436617265234226,\n",
              " 'alvy': 8.436617265234226,\n",
              " 'aly': 8.436617265234226,\n",
              " 'alycia': 8.436617265234226,\n",
              " 'alydon': 8.436617265234226,\n",
              " 'alyson': 8.436617265234226,\n",
              " 'alzheimer': 8.436617265234226,\n",
              " 'amacore': 8.436617265234226,\n",
              " 'amahagger': 8.436617265234226,\n",
              " 'amal': 8.436617265234226,\n",
              " 'amalgam': 8.436617265234226,\n",
              " 'amalgamated': 8.436617265234226,\n",
              " 'amalgamation': 8.436617265234226,\n",
              " 'amandla': 8.436617265234226,\n",
              " 'amann': 8.436617265234226,\n",
              " 'amara': 8.436617265234226,\n",
              " 'amaretto': 8.436617265234226,\n",
              " 'amargosa': 8.436617265234226,\n",
              " 'amarilis': 8.436617265234226,\n",
              " 'amateurish': 8.436617265234226,\n",
              " 'amateurs': 8.436617265234226,\n",
              " 'amato': 8.436617265234226,\n",
              " 'amazeen': 8.436617265234226,\n",
              " 'amazes': 8.436617265234226,\n",
              " 'amberley': 8.436617265234226,\n",
              " 'amberson': 8.436617265234226,\n",
              " 'ambidexterity': 8.436617265234226,\n",
              " 'ambient': 8.436617265234226,\n",
              " 'ambiguously': 8.436617265234226,\n",
              " 'ambitiously': 8.436617265234226,\n",
              " 'amble': 8.436617265234226,\n",
              " 'ambrosius': 8.436617265234226,\n",
              " 'ambushers': 8.436617265234226,\n",
              " 'amc': 8.436617265234226,\n",
              " 'amee': 8.436617265234226,\n",
              " 'ameer': 8.436617265234226,\n",
              " 'amelita': 8.436617265234226,\n",
              " 'amenable': 8.436617265234226,\n",
              " 'amended': 8.436617265234226,\n",
              " 'amenities': 8.436617265234226,\n",
              " 'amer': 8.436617265234226,\n",
              " 'americana': 8.436617265234226,\n",
              " 'americanized': 8.436617265234226,\n",
              " 'amerjit': 8.436617265234226,\n",
              " 'amethyst': 8.436617265234226,\n",
              " 'amhad': 8.436617265234226,\n",
              " 'amicable': 8.436617265234226,\n",
              " 'amidala': 8.436617265234226,\n",
              " 'amidon': 8.436617265234226,\n",
              " 'amigo': 8.436617265234226,\n",
              " 'aminah': 8.436617265234226,\n",
              " 'ammonium': 8.436617265234226,\n",
              " 'amnesiac': 8.436617265234226,\n",
              " 'amnesiatic': 8.436617265234226,\n",
              " 'amnio': 8.436617265234226,\n",
              " 'amontillado': 8.436617265234226,\n",
              " 'amorously': 8.436617265234226,\n",
              " 'amphetamines': 8.436617265234226,\n",
              " 'amphiaraus': 8.436617265234226,\n",
              " 'amphibian': 8.436617265234226,\n",
              " 'amphibicopter': 8.436617265234226,\n",
              " 'amphitheater': 8.436617265234226,\n",
              " 'amplifier': 8.436617265234226,\n",
              " 'amplifiers': 8.436617265234226,\n",
              " 'ampoule': 8.436617265234226,\n",
              " 'ampoules': 8.436617265234226,\n",
              " 'ampules': 8.436617265234226,\n",
              " 'amr': 8.436617265234226,\n",
              " 'amrvin': 8.436617265234226,\n",
              " 'ams': 8.436617265234226,\n",
              " 'amun': 8.436617265234226,\n",
              " 'amundsen': 8.436617265234226,\n",
              " 'amusements': 8.436617265234226,\n",
              " 'amygdala': 8.436617265234226,\n",
              " 'anachronism': 8.436617265234226,\n",
              " 'anacleto': 8.436617265234226,\n",
              " 'anaesthesia': 8.436617265234226,\n",
              " 'anahuac': 8.436617265234226,\n",
              " 'anal': 8.436617265234226,\n",
              " 'analemma': 8.436617265234226,\n",
              " 'analyse': 8.436617265234226,\n",
              " 'analysing': 8.436617265234226,\n",
              " 'analyzer': 8.436617265234226,\n",
              " 'anamaria': 8.436617265234226,\n",
              " 'anarchic': 8.436617265234226,\n",
              " 'anastacia': 8.436617265234226,\n",
              " 'anastasia': 8.436617265234226,\n",
              " 'anatevka': 8.436617265234226,\n",
              " 'anathema': 8.436617265234226,\n",
              " 'anatoli': 8.436617265234226,\n",
              " 'anatomical': 8.436617265234226,\n",
              " 'anatomist': 8.436617265234226,\n",
              " 'anavak': 8.436617265234226,\n",
              " 'anbella': 8.436617265234226,\n",
              " 'anchorman': 8.436617265234226,\n",
              " 'anderl': 8.436617265234226,\n",
              " 'andersonville': 8.436617265234226,\n",
              " 'anderssen': 8.436617265234226,\n",
              " 'andersson': 8.436617265234226,\n",
              " 'anderton': 8.436617265234226,\n",
              " 'andi': 8.436617265234226,\n",
              " 'andie': 8.436617265234226,\n",
              " 'ando': 8.436617265234226,\n",
              " 'andras': 8.436617265234226,\n",
              " 'andreas': 8.436617265234226,\n",
              " 'andrezej': 8.436617265234226,\n",
              " 'andries': 8.436617265234226,\n",
              " 'andriy': 8.436617265234226,\n",
              " 'androgynous': 8.436617265234226,\n",
              " 'andromache': 8.436617265234226,\n",
              " 'andromeda': 8.436617265234226,\n",
              " 'andrzej': 8.436617265234226,\n",
              " 'andrés': 8.436617265234226,\n",
              " 'anecdote': 8.436617265234226,\n",
              " 'anecdotes': 8.436617265234226,\n",
              " 'anesthesia': 8.436617265234226,\n",
              " 'anesthesiology': 8.436617265234226,\n",
              " 'anesthetics': 8.436617265234226,\n",
              " 'anesthetizes': 8.436617265234226,\n",
              " 'aneta': 8.436617265234226,\n",
              " 'aneurysm': 8.436617265234226,\n",
              " 'angelababy': 8.436617265234226,\n",
              " 'angeli': 8.436617265234226,\n",
              " 'angeline': 8.436617265234226,\n",
              " 'angelos': 8.436617265234226,\n",
              " 'angelus': 8.436617265234226,\n",
              " 'angharad': 8.436617265234226,\n",
              " 'angier': 8.436617265234226,\n",
              " 'anglade': 8.436617265234226,\n",
              " 'angler': 8.436617265234226,\n",
              " 'anglers': 8.436617265234226,\n",
              " 'anglia': 8.436617265234226,\n",
              " 'angling': 8.436617265234226,\n",
              " 'ango': 8.436617265234226,\n",
              " 'angola': 8.436617265234226,\n",
              " 'angolan': 8.436617265234226,\n",
              " 'angrier': 8.436617265234226,\n",
              " 'anguillara': 8.436617265234226,\n",
              " 'anij': 8.436617265234226,\n",
              " 'anika': 8.436617265234226,\n",
              " 'animala': 8.436617265234226,\n",
              " 'animality': 8.436617265234226,\n",
              " 'animating': 8.436617265234226,\n",
              " 'animations': 8.436617265234226,\n",
              " 'animators': 8.436617265234226,\n",
              " 'anime': 8.436617265234226,\n",
              " 'anise': 8.436617265234226,\n",
              " 'anjali': 8.436617265234226,\n",
              " 'anjanette': 8.436617265234226,\n",
              " 'anka': 8.436617265234226,\n",
              " 'ankar': 8.436617265234226,\n",
              " 'anklet': 8.436617265234226,\n",
              " 'annalee': 8.436617265234226,\n",
              " 'annalynne': 8.436617265234226,\n",
              " 'annapolis': 8.436617265234226,\n",
              " 'annas': 8.436617265234226,\n",
              " 'anneliese': 8.436617265234226,\n",
              " 'annemarie': 8.436617265234226,\n",
              " 'annihilate': 8.436617265234226,\n",
              " 'annihilates': 8.436617265234226,\n",
              " 'annis': 8.436617265234226,\n",
              " 'annotated': 8.436617265234226,\n",
              " 'announcements': 8.436617265234226,\n",
              " 'annoyingly': 8.436617265234226,\n",
              " 'annually': 8.436617265234226,\n",
              " 'anny': 8.436617265234226,\n",
              " 'anointed': 8.436617265234226,\n",
              " 'anomalous': 8.436617265234226,\n",
              " 'anomymous': 8.436617265234226,\n",
              " 'ansah': 8.436617265234226,\n",
              " 'anse': 8.436617265234226,\n",
              " 'ansell': 8.436617265234226,\n",
              " 'ansford': 8.436617265234226,\n",
              " 'anshel': 8.436617265234226,\n",
              " 'anslem': 8.436617265234226,\n",
              " 'ansonia': 8.436617265234226,\n",
              " 'antagonise': 8.436617265234226,\n",
              " 'antagonised': 8.436617265234226,\n",
              " 'antagonistic': 8.436617265234226,\n",
              " 'antagonistically': 8.436617265234226,\n",
              " 'antagonists': 8.436617265234226,\n",
              " 'antagonized': 8.436617265234226,\n",
              " 'antagonizing': 8.436617265234226,\n",
              " 'ante': 8.436617265234226,\n",
              " 'antediluvian': 8.436617265234226,\n",
              " 'anterea': 8.436617265234226,\n",
              " 'anthrax': 8.436617265234226,\n",
              " 'anthropologists': 8.436617265234226,\n",
              " 'anthropology': 8.436617265234226,\n",
              " 'antibiotic': 8.436617265234226,\n",
              " 'anticlea': 8.436617265234226,\n",
              " 'anticonvulsant': 8.436617265234226,\n",
              " 'antigens': 8.436617265234226,\n",
              " 'antihero': 8.436617265234226,\n",
              " 'antimatter': 8.436617265234226,\n",
              " 'antipathy': 8.436617265234226,\n",
              " 'antisemitism': 8.436617265234226,\n",
              " 'antiseptic': 8.436617265234226,\n",
              " 'antiterrorism': 8.436617265234226,\n",
              " 'antiviral': 8.436617265234226,\n",
              " 'antler': 8.436617265234226,\n",
              " 'antodus': 8.436617265234226,\n",
              " 'antonescu': 8.436617265234226,\n",
              " 'antonie': 8.436617265234226,\n",
              " 'antonietta': 8.436617265234226,\n",
              " 'antonin': 8.436617265234226,\n",
              " 'antwerp': 8.436617265234226,\n",
              " 'anus': 8.436617265234226,\n",
              " 'anvil': 8.436617265234226,\n",
              " 'anya': 8.436617265234226,\n",
              " 'aokigahara': 8.436617265234226,\n",
              " 'aouda': 8.436617265234226,\n",
              " 'apathetically': 8.436617265234226,\n",
              " 'apathy': 8.436617265234226,\n",
              " 'apb': 8.436617265234226,\n",
              " 'apc': 8.436617265234226,\n",
              " 'apd': 8.436617265234226,\n",
              " 'apeksimova': 8.436617265234226,\n",
              " 'apelike': 8.436617265234226,\n",
              " 'apeman': 8.436617265234226,\n",
              " 'apemen': 8.436617265234226,\n",
              " 'apex': 8.436617265234226,\n",
              " 'aphasic': 8.436617265234226,\n",
              " 'aphorism': 8.436617265234226,\n",
              " 'aphorisms': 8.436617265234226,\n",
              " 'aphrodite': 8.436617265234226,\n",
              " 'apia': 8.436617265234226,\n",
              " 'apiary': 8.436617265234226,\n",
              " 'apollonia': 8.436617265234226,\n",
              " 'apologised': 8.436617265234226,\n",
              " 'apologising': 8.436617265234226,\n",
              " 'apone': 8.436617265234226,\n",
              " 'apothocary': 8.436617265234226,\n",
              " 'app': 8.436617265234226,\n",
              " 'appa': 8.436617265234226,\n",
              " 'appalachian': 8.436617265234226,\n",
              " 'appealed': 8.436617265234226,\n",
              " 'appeases': 8.436617265234226,\n",
              " ...}"
            ]
          },
          "metadata": {},
          "execution_count": 43
        }
      ]
    },
    {
      "cell_type": "code",
      "source": [
        "# This code will generate the 'class based' method\n",
        "# In terms of code, it is equivalent to group all plots of the same genre together, \n",
        "#   since the vectorizer sees each row of final as a 'document'. In our case, each row\n",
        "#   is a genre. So it's all good :)\n",
        "final = pd.DataFrame(index=top_genres, columns=[\"WholePlot\"])\n",
        "final = final.fillna(0)\n",
        "for genre in top_genres:\n",
        "    combined = \"\"\n",
        "    for plot in movie_df_names_removed[movie_df_names_removed[\"Genre\"] == genre][\"WholePlot\"]:\n",
        "        combined += plot\n",
        "    final[\"WholePlot\"][genre] = combined\n",
        "final"
      ],
      "metadata": {
        "colab": {
          "base_uri": "https://localhost:8080/",
          "height": 332
        },
        "id": "er12MZKr_hBd",
        "outputId": "b54c9298-6446-49aa-b928-8b35ebf2aa7a"
      },
      "execution_count": null,
      "outputs": [
        {
          "output_type": "execute_result",
          "data": {
            "text/plain": [
              "                                                         WholePlot\n",
              "western          The film opens with two bandits breaking into ...\n",
              "comedy           The film is about a family who move to the sub...\n",
              "drama            On a beautiful summer day a father and mother ...\n",
              "adventure        A white girl (Florence Lawrence) rejects a pro...\n",
              "horror           White-haired Dr. Jekyll has secretly locked hi...\n",
              "thriller         Zara (Aileen Pringle) is a gypsy rogue who joi...\n",
              "musical          The first scene has a marching band playing Th...\n",
              "action           In World War I, American pilots Mal Andrews (C...\n",
              "science fiction  Shipwrecked traveler Edward Parker (Richard Ar..."
            ],
            "text/html": [
              "\n",
              "  <div id=\"df-b1b8800f-d443-497a-b1a1-11c0c74222ec\">\n",
              "    <div class=\"colab-df-container\">\n",
              "      <div>\n",
              "<style scoped>\n",
              "    .dataframe tbody tr th:only-of-type {\n",
              "        vertical-align: middle;\n",
              "    }\n",
              "\n",
              "    .dataframe tbody tr th {\n",
              "        vertical-align: top;\n",
              "    }\n",
              "\n",
              "    .dataframe thead th {\n",
              "        text-align: right;\n",
              "    }\n",
              "</style>\n",
              "<table border=\"1\" class=\"dataframe\">\n",
              "  <thead>\n",
              "    <tr style=\"text-align: right;\">\n",
              "      <th></th>\n",
              "      <th>WholePlot</th>\n",
              "    </tr>\n",
              "  </thead>\n",
              "  <tbody>\n",
              "    <tr>\n",
              "      <th>western</th>\n",
              "      <td>The film opens with two bandits breaking into ...</td>\n",
              "    </tr>\n",
              "    <tr>\n",
              "      <th>comedy</th>\n",
              "      <td>The film is about a family who move to the sub...</td>\n",
              "    </tr>\n",
              "    <tr>\n",
              "      <th>drama</th>\n",
              "      <td>On a beautiful summer day a father and mother ...</td>\n",
              "    </tr>\n",
              "    <tr>\n",
              "      <th>adventure</th>\n",
              "      <td>A white girl (Florence Lawrence) rejects a pro...</td>\n",
              "    </tr>\n",
              "    <tr>\n",
              "      <th>horror</th>\n",
              "      <td>White-haired Dr. Jekyll has secretly locked hi...</td>\n",
              "    </tr>\n",
              "    <tr>\n",
              "      <th>thriller</th>\n",
              "      <td>Zara (Aileen Pringle) is a gypsy rogue who joi...</td>\n",
              "    </tr>\n",
              "    <tr>\n",
              "      <th>musical</th>\n",
              "      <td>The first scene has a marching band playing Th...</td>\n",
              "    </tr>\n",
              "    <tr>\n",
              "      <th>action</th>\n",
              "      <td>In World War I, American pilots Mal Andrews (C...</td>\n",
              "    </tr>\n",
              "    <tr>\n",
              "      <th>science fiction</th>\n",
              "      <td>Shipwrecked traveler Edward Parker (Richard Ar...</td>\n",
              "    </tr>\n",
              "  </tbody>\n",
              "</table>\n",
              "</div>\n",
              "      <button class=\"colab-df-convert\" onclick=\"convertToInteractive('df-b1b8800f-d443-497a-b1a1-11c0c74222ec')\"\n",
              "              title=\"Convert this dataframe to an interactive table.\"\n",
              "              style=\"display:none;\">\n",
              "        \n",
              "  <svg xmlns=\"http://www.w3.org/2000/svg\" height=\"24px\"viewBox=\"0 0 24 24\"\n",
              "       width=\"24px\">\n",
              "    <path d=\"M0 0h24v24H0V0z\" fill=\"none\"/>\n",
              "    <path d=\"M18.56 5.44l.94 2.06.94-2.06 2.06-.94-2.06-.94-.94-2.06-.94 2.06-2.06.94zm-11 1L8.5 8.5l.94-2.06 2.06-.94-2.06-.94L8.5 2.5l-.94 2.06-2.06.94zm10 10l.94 2.06.94-2.06 2.06-.94-2.06-.94-.94-2.06-.94 2.06-2.06.94z\"/><path d=\"M17.41 7.96l-1.37-1.37c-.4-.4-.92-.59-1.43-.59-.52 0-1.04.2-1.43.59L10.3 9.45l-7.72 7.72c-.78.78-.78 2.05 0 2.83L4 21.41c.39.39.9.59 1.41.59.51 0 1.02-.2 1.41-.59l7.78-7.78 2.81-2.81c.8-.78.8-2.07 0-2.86zM5.41 20L4 18.59l7.72-7.72 1.47 1.35L5.41 20z\"/>\n",
              "  </svg>\n",
              "      </button>\n",
              "      \n",
              "  <style>\n",
              "    .colab-df-container {\n",
              "      display:flex;\n",
              "      flex-wrap:wrap;\n",
              "      gap: 12px;\n",
              "    }\n",
              "\n",
              "    .colab-df-convert {\n",
              "      background-color: #E8F0FE;\n",
              "      border: none;\n",
              "      border-radius: 50%;\n",
              "      cursor: pointer;\n",
              "      display: none;\n",
              "      fill: #1967D2;\n",
              "      height: 32px;\n",
              "      padding: 0 0 0 0;\n",
              "      width: 32px;\n",
              "    }\n",
              "\n",
              "    .colab-df-convert:hover {\n",
              "      background-color: #E2EBFA;\n",
              "      box-shadow: 0px 1px 2px rgba(60, 64, 67, 0.3), 0px 1px 3px 1px rgba(60, 64, 67, 0.15);\n",
              "      fill: #174EA6;\n",
              "    }\n",
              "\n",
              "    [theme=dark] .colab-df-convert {\n",
              "      background-color: #3B4455;\n",
              "      fill: #D2E3FC;\n",
              "    }\n",
              "\n",
              "    [theme=dark] .colab-df-convert:hover {\n",
              "      background-color: #434B5C;\n",
              "      box-shadow: 0px 1px 3px 1px rgba(0, 0, 0, 0.15);\n",
              "      filter: drop-shadow(0px 1px 2px rgba(0, 0, 0, 0.3));\n",
              "      fill: #FFFFFF;\n",
              "    }\n",
              "  </style>\n",
              "\n",
              "      <script>\n",
              "        const buttonEl =\n",
              "          document.querySelector('#df-b1b8800f-d443-497a-b1a1-11c0c74222ec button.colab-df-convert');\n",
              "        buttonEl.style.display =\n",
              "          google.colab.kernel.accessAllowed ? 'block' : 'none';\n",
              "\n",
              "        async function convertToInteractive(key) {\n",
              "          const element = document.querySelector('#df-b1b8800f-d443-497a-b1a1-11c0c74222ec');\n",
              "          const dataTable =\n",
              "            await google.colab.kernel.invokeFunction('convertToInteractive',\n",
              "                                                     [key], {});\n",
              "          if (!dataTable) return;\n",
              "\n",
              "          const docLinkHtml = 'Like what you see? Visit the ' +\n",
              "            '<a target=\"_blank\" href=https://colab.research.google.com/notebooks/data_table.ipynb>data table notebook</a>'\n",
              "            + ' to learn more about interactive tables.';\n",
              "          element.innerHTML = '';\n",
              "          dataTable['output_type'] = 'display_data';\n",
              "          await google.colab.output.renderOutput(dataTable, element);\n",
              "          const docLink = document.createElement('div');\n",
              "          docLink.innerHTML = docLinkHtml;\n",
              "          element.appendChild(docLink);\n",
              "        }\n",
              "      </script>\n",
              "    </div>\n",
              "  </div>\n",
              "  "
            ]
          },
          "metadata": {},
          "execution_count": 50
        }
      ]
    },
    {
      "cell_type": "code",
      "source": [
        "# Now, we can run the vectorizer on the new df to test the 'class based' approach\n",
        "# Note the small change in the code. This is because we want to train on the 'class based' df that we created,\n",
        "# but that df has lost all of the rows we care about in the process. Thus, we transform the relevant df after fitting\n",
        "vectorizer = TfidfVectorizer()\n",
        "vectorizer.fit(final[\"WholePlot\"])\n",
        "X = vectorizer.transform(movie_df_names_removed[\"WholePlot\"])\n",
        "train_x, test_x, train_y, test_y = train_test_split(X,movie_df_names_removed[\"Genre\"])\n",
        "svm_model = svm.SVC(kernel = 'linear')\n",
        "svm_model.fit(train_x, train_y)\n",
        "svm_model.score(test_x, test_y)"
      ],
      "metadata": {
        "colab": {
          "base_uri": "https://localhost:8080/"
        },
        "id": "CF5TW9gQ_g9q",
        "outputId": "290dada3-daf3-4b21-e9e0-e74b66857e19"
      },
      "execution_count": null,
      "outputs": [
        {
          "output_type": "execute_result",
          "data": {
            "text/plain": [
              "0.5964912280701754"
            ]
          },
          "metadata": {},
          "execution_count": 51
        }
      ]
    },
    {
      "cell_type": "markdown",
      "source": [
        "## **Other Misc. Experimentation**"
      ],
      "metadata": {
        "id": "0KUvIe8Jwhqt"
      }
    },
    {
      "cell_type": "code",
      "source": [
        "#Imports\n",
        "from sklearn.feature_extraction.text import TfidfVectorizer\n",
        "from sklearn.naive_bayes import MultinomialNB\n",
        "from sklearn.model_selection import train_test_split\n",
        "from sklearn import svm as sklearn_svm"
      ],
      "metadata": {
        "id": "OBVRlOJZw19q"
      },
      "execution_count": null,
      "outputs": []
    },
    {
      "cell_type": "code",
      "source": [
        "#Read in dataset\n",
        "df_no_names = pd.read_csv('trimmed_movies_no_names.csv')\n",
        "df_no_names = df_no_names.drop(['Unnamed: 0'],axis=1)\n",
        "df_no_names['Plot'] = df_no_names['Plot'].apply(lambda x: x.replace(\"[\\'\",\"\").replace(\"\\']\",\"\").split(\"\\', \\'\"))\n",
        "\n",
        "#Convert plots to single strings instead of lists of words\n",
        "df_idf = df_no_names.copy()\n",
        "df_idf['Plot'] = df_idf['Plot'].apply(lambda x: \" \".join(x))"
      ],
      "metadata": {
        "id": "maSPmYQ4w1_6"
      },
      "execution_count": null,
      "outputs": []
    },
    {
      "cell_type": "markdown",
      "source": [
        "### **Using tfidf with ngrams for svm**"
      ],
      "metadata": {
        "id": "O9jmaIOZxccG"
      }
    },
    {
      "cell_type": "markdown",
      "source": [
        "Try using ngrams of length 1 & 2"
      ],
      "metadata": {
        "id": "mTLlAQmzyaKx"
      }
    },
    {
      "cell_type": "code",
      "source": [
        "vectorizer_ngram = TfidfVectorizer(ngram_range=(1,2))\n",
        "X_ngram = vectorizer_ngram.fit_transform(df_idf[\"Plot\"])"
      ],
      "metadata": {
        "id": "gJpvO8DGx-jk"
      },
      "execution_count": null,
      "outputs": []
    },
    {
      "cell_type": "code",
      "source": [
        "train_x_ngram, test_x_ngram, train_y_ngram, test_y_ngram = train_test_split(X_ngram,df_idf[\"Genre\"])\n",
        "svm_ngram = sklearn_svm.SVC()\n",
        "svm_ngram.fit(train_x_ngram, train_y_ngram)\n",
        "svm_ngram.score(test_x_ngram, test_y_ngram)"
      ],
      "metadata": {
        "id": "srmGKLpmyEty"
      },
      "execution_count": null,
      "outputs": []
    },
    {
      "cell_type": "markdown",
      "source": [
        "Try using ngrams of length 1, 2, & 3"
      ],
      "metadata": {
        "id": "4ucE46sYypfH"
      }
    },
    {
      "cell_type": "code",
      "source": [
        "vectorizer_ngram = TfidfVectorizer(ngram_range=(1,3))\n",
        "X_ngram = vectorizer_ngram.fit_transform(df_idf[\"Plot\"])"
      ],
      "metadata": {
        "id": "xf09qtSYyGPR"
      },
      "execution_count": null,
      "outputs": []
    },
    {
      "cell_type": "code",
      "source": [
        "train_x_ngram, test_x_ngram, train_y_ngram, test_y_ngram = train_test_split(X_ngram,df_idf[\"Genre\"])\n",
        "svm_ngram = sklearn_svm.SVC()\n",
        "svm_ngram.fit(train_x_ngram, train_y_ngram)\n",
        "svm_ngram.score(test_x_ngram, test_y_ngram)"
      ],
      "metadata": {
        "id": "mza7-LFKyGRZ"
      },
      "execution_count": null,
      "outputs": []
    },
    {
      "cell_type": "markdown",
      "source": [
        "### **Using tfidf with ngrams for multinomialNB**"
      ],
      "metadata": {
        "id": "DR-glMibySJo"
      }
    },
    {
      "cell_type": "code",
      "source": [
        "vectorizer_ngram = TfidfVectorizer(ngram_range=(1,4))\n",
        "X_ngram = vectorizer_ngram.fit_transform(df_idf[\"Plot\"])"
      ],
      "metadata": {
        "id": "W02Y1vaUyGTZ"
      },
      "execution_count": null,
      "outputs": []
    },
    {
      "cell_type": "code",
      "source": [
        "from sklearn.naive_bayes import MultinomialNB\n",
        "clf = MultinomialNB()\n",
        "clf.fit(train_x_ngram, train_y_ngram)\n",
        "clf.score(test_x_ngram, test_y_ngram)"
      ],
      "metadata": {
        "id": "0Xm075dyyGVy"
      },
      "execution_count": null,
      "outputs": []
    },
    {
      "cell_type": "markdown",
      "source": [
        "### **Using tfidf for RandomForestClassifier**"
      ],
      "metadata": {
        "id": "-7gd01U8y_Kf"
      }
    },
    {
      "cell_type": "code",
      "source": [
        "from sklearn.ensemble import RandomForestClassifier\n",
        "classifier = RandomForestClassifier()\n",
        "classifier.fit(train_x, train_y)\n",
        "y_pred = classifier.predict(test_x)\n",
        "print(accuracy_score(test_y, y_pred))"
      ],
      "metadata": {
        "id": "dPfJ0SwYzEFw"
      },
      "execution_count": null,
      "outputs": []
    },
    {
      "cell_type": "code",
      "source": [
        ""
      ],
      "metadata": {
        "id": "YXxjL-ahd6X9"
      },
      "execution_count": null,
      "outputs": []
    },
    {
      "cell_type": "code",
      "source": [
        ""
      ],
      "metadata": {
        "id": "IOH2_p8_eMDI"
      },
      "execution_count": null,
      "outputs": []
    },
    {
      "cell_type": "markdown",
      "source": [
        "**SKLearn Black Box Implementation**"
      ],
      "metadata": {
        "id": "9AeKyPjsotw5"
      }
    },
    {
      "cell_type": "code",
      "source": [
        "import pandas as pd\n",
        "from sklearn import metrics\n",
        "from sklearn.metrics import precision_score, accuracy_score, recall_score, f1_score, roc_auc_score\n",
        "from sklearn.model_selection import StratifiedKFold, cross_val_predict, cross_val_score, train_test_split\n",
        "from sklearn.feature_extraction.text import CountVectorizer, TfidfTransformer, TfidfVectorizer\n",
        "from sklearn.pipeline import Pipeline\n",
        "from sklearn.linear_model import SGDClassifier\n",
        "import numpy as np\n",
        "import matplotlib.pyplot as plt\n",
        "from sklearn.model_selection import GridSearchCV,RandomizedSearchCV\n",
        "from imblearn.pipeline import make_pipeline\n",
        "from imblearn.over_sampling import SMOTE"
      ],
      "metadata": {
        "id": "i5p0jiDgo2xK"
      },
      "execution_count": null,
      "outputs": []
    },
    {
      "cell_type": "code",
      "source": [
        "df = pd.read_csv(\"filtered_movies.csv\",index_col=0,)\n",
        "\n",
        "df.reset_index(drop=False,inplace=True)\n",
        "df.rename(mapper={'index':'ID'},axis=1,inplace=True)\n",
        "\n",
        "X = df['Plot']\n",
        "y = df['Genre']\n",
        "\n",
        "print(df.shape)\n",
        "df.head()"
      ],
      "metadata": {
        "id": "CEVGbLk9o8qh"
      },
      "execution_count": null,
      "outputs": []
    },
    {
      "cell_type": "code",
      "source": [
        "from nltk import word_tokenize          \n",
        "from nltk.stem import WordNetLemmatizer \n",
        "\n",
        "# Custom Lemmatizer\n",
        "class LemmaTokenizer:\n",
        "    def __init__(self):\n",
        "        self.wnl = WordNetLemmatizer()\n",
        "    \n",
        "    def __call__(self, doc):\n",
        "        return [self.wnl.lemmatize(t) for t in word_tokenize(doc)]\n",
        "    \n",
        "### Make the SMOTE Pipeline\n",
        "smote_pipeline = make_pipeline(CountVectorizer(tokenizer=LemmaTokenizer()),\n",
        "                         TfidfTransformer(),\n",
        "                         SMOTE(n_jobs=-1,random_state=42),\n",
        "                         SGDClassifier(n_jobs=-1,verbose=0,random_state=42)\n",
        "                        )\n"
      ],
      "metadata": {
        "id": "g2GUt6jYo_Mw"
      },
      "execution_count": null,
      "outputs": []
    },
    {
      "cell_type": "code",
      "source": [
        "def pipeline_cv(splits, X, Y, pipeline):\n",
        "    \n",
        "    kfold = StratifiedKFold(n_splits=splits, shuffle=True, random_state=777)\n",
        "    \n",
        "    reports = []\n",
        "    for train, test in kfold.split(X, Y):\n",
        "        fit = pipeline.fit(X.iloc[train], Y.iloc[train])\n",
        "        prediction = fit.predict(X.iloc[test])\n",
        "        \n",
        "        reports.append(\n",
        "            pd.DataFrame(\n",
        "                metrics.classification_report(\n",
        "                    Y.iloc[test],prediction,output_dict=True\n",
        "                )\n",
        "            )\n",
        "        )\n",
        "\n",
        "    df_concat = pd.concat([x for x in reports])\n",
        "\n",
        "    by_row_index = df_concat.groupby(df_concat.index)\n",
        "    df_means = by_row_index.mean()\n",
        "\n",
        "    return df_means\n",
        "\n"
      ],
      "metadata": {
        "id": "vvay0-1opCSQ"
      },
      "execution_count": null,
      "outputs": []
    },
    {
      "cell_type": "code",
      "source": [
        "# Pipeline testing\n",
        "pipeline_cv(5,X,y,smote_pipeline)"
      ],
      "metadata": {
        "id": "JfTDrrS0pDzS"
      },
      "execution_count": null,
      "outputs": []
    },
    {
      "cell_type": "code",
      "source": [
        "### Create scorer\n",
        "scorer = metrics.make_scorer(metrics.f1_score, average = 'weighted')"
      ],
      "metadata": {
        "id": "aui1YfffpIHi"
      },
      "execution_count": null,
      "outputs": []
    },
    {
      "cell_type": "code",
      "source": [
        "params = {\n",
        "    'countvectorizer__ngram_range':[(1,2),(1,3)],\n",
        "    'countvectorizer__max_df':np.linspace(.5,.7,5),\n",
        "    'countvectorizer__min_df':[1,2,3,4],\n",
        "    'tfidftransformer__use_idf':[True],\n",
        "    'tfidftransformer__smooth_idf':[True],\n",
        "    'sgdclassifier__alpha':np.linspace(.00005,.0002),\n",
        "    'sgdclassifier__loss':['squared_hinge']\n",
        "}"
      ],
      "metadata": {
        "id": "7br6I9-7pJjY"
      },
      "execution_count": null,
      "outputs": []
    },
    {
      "cell_type": "code",
      "source": [
        "from sklearn.metrics import confusion_matrix\n",
        "\n",
        "def plot_confusion_matrix(true,predicted,classes):\n",
        "    import itertools\n",
        "    cm=confusion_matrix(true,predicted,labels=classes)\n",
        "    \n",
        "    fig = plt.figure(figsize=(15,20))\n",
        "    ax = fig.add_subplot(111)\n",
        "    cax = ax.matshow(cm,cmap=plt.cm.Blues)\n",
        "    plt.title('Confusion matrix',fontdict={'size':20})\n",
        "    fig.colorbar(cax)\n",
        "    \n",
        "    ax.set_xticklabels([''] + classes,fontdict={'size':14})\n",
        "    ax.set_yticklabels([''] + classes,fontdict={'size':14})\n",
        "    \n",
        "    plt.xlabel('Predicted',fontdict={'size':14})\n",
        "    plt.ylabel('True',fontdict={'size':14})\n",
        "    \n",
        "    plt.grid(b=None)\n",
        "    fmt = 'd'\n",
        "\n",
        "    for i, j in itertools.product(range(cm.shape[0]), range(cm.shape[1])):\n",
        "        plt.text(j, i, format(cm[i, j], fmt),\n",
        "             horizontalalignment=\"center\",\n",
        "             fontdict={'size':14,'weight':'heavy'})"
      ],
      "metadata": {
        "id": "pnYMxySJpK1y"
      },
      "execution_count": null,
      "outputs": []
    },
    {
      "cell_type": "code",
      "source": [
        "# No longer used due to SMOTE\n",
        "def equalize_df(df):\n",
        "    df_adventure = df[df['Genre']=='adventure'].sample(n = 377)\n",
        "    df_drama = df[df['Genre']=='drama'].sample(n = 377)\n",
        "    df_comedy = df[df['Genre']=='comedy'].sample(n = 377)\n",
        "    df_horror = df[df['Genre']=='horror'].sample(n = 377)\n",
        "    df_thriller = df[df['Genre']=='thriller'].sample(n = 377)\n",
        "    df_western = df[df['Genre']=='western'].sample(n = 377)\n",
        "    df_action = df[df['Genre']=='action'].sample(n = 377)\n",
        "    df_musical = df[df['Genre']=='musical'].sample(n = 377)\n",
        "    df_science_fiction = df[df['Genre']=='science fiction'].sample(n = 377)\n",
        "    equal_length_df = pd.concat([df_adventure, df_comedy,df_drama,df_horror,df_thriller,df_western,df_action,df_musical,df_science_fiction])\n",
        "    return equal_length_df"
      ],
      "metadata": {
        "id": "056vTVAOpQ9b"
      },
      "execution_count": null,
      "outputs": []
    },
    {
      "cell_type": "code",
      "source": [
        ""
      ],
      "metadata": {
        "id": "nTMaENI6pZEg"
      },
      "execution_count": null,
      "outputs": []
    },
    {
      "cell_type": "markdown",
      "source": [
        "**Formal Case 1**"
      ],
      "metadata": {
        "id": "XzU1BiScpc6m"
      }
    },
    {
      "cell_type": "code",
      "source": [
        "# Filtered but unprocessed dataset being run through the entire pipeline"
      ],
      "metadata": {
        "id": "LHeiSoGhpgN3"
      },
      "execution_count": null,
      "outputs": []
    },
    {
      "cell_type": "code",
      "source": [
        "filtered = pd.read_csv('filtered_movies.csv')\n",
        "X = filtered['Plot']\n",
        "y = filtered['Genre']\n",
        "\n",
        "X_train, X_test, y_train, y_test = train_test_split(X, y, test_size=0.3)"
      ],
      "metadata": {
        "id": "Vu_4Sg6tpklw"
      },
      "execution_count": null,
      "outputs": []
    },
    {
      "cell_type": "code",
      "source": [
        "pipeline_cv(5,X,y,random_search)\n",
        "best_model = random_search.best_estimator_\n",
        "best_model"
      ],
      "metadata": {
        "id": "s-tluQnXpmXi"
      },
      "execution_count": null,
      "outputs": []
    },
    {
      "cell_type": "code",
      "source": [
        "fit = best_model.fit(X_train,y_train)\n",
        "y_pred = fit.predict(X_test)\n",
        "\n",
        "report = pd.DataFrame(\n",
        "    metrics.classification_report(y_test,y_pred,output_dict=True)\n",
        ")\n",
        "report"
      ],
      "metadata": {
        "id": "wy5wQzkwpptQ"
      },
      "execution_count": null,
      "outputs": []
    },
    {
      "cell_type": "code",
      "source": [
        "classes = list(report.columns)[:-3]\n",
        "plot_confusion_matrix(y_test,y_pred,classes)"
      ],
      "metadata": {
        "id": "RiOi1p7_ptDQ"
      },
      "execution_count": null,
      "outputs": []
    },
    {
      "cell_type": "markdown",
      "source": [
        "**Formal Case 2**"
      ],
      "metadata": {
        "id": "DdLDjcuupv6g"
      }
    },
    {
      "cell_type": "code",
      "source": [
        "# Now, we will run the Stochastic Gradient Descent on the manually processed dataset created by our team\n",
        "np_pipeline = make_pipeline(CountVectorizer(),\n",
        "                         SGDClassifier(n_jobs=-1,verbose=0,random_state=42)\n",
        "                        )\n",
        "\n",
        "np_params = {\n",
        "    'sgdclassifier__alpha':np.linspace(.00005,.0002),\n",
        "    'sgdclassifier__loss':['squared_hinge']\n",
        "}\n",
        "\n",
        "np_random_search = RandomizedSearchCV(np_pipeline,np_params,cv=5,n_jobs=-1,scoring=scorer,verbose=0)"
      ],
      "metadata": {
        "id": "6xiB56YqpzBZ"
      },
      "execution_count": null,
      "outputs": []
    },
    {
      "cell_type": "code",
      "source": [
        "trimmed = pd.read_csv('trimmed_movies.csv')\n",
        "\n",
        "X = trimmed['Plot']\n",
        "y = trimmed['Genre']\n",
        "\n",
        "X_train, X_test, y_train, y_test = train_test_split(X, y, test_size=0.3)"
      ],
      "metadata": {
        "id": "idbZGo8up4Cx"
      },
      "execution_count": null,
      "outputs": []
    },
    {
      "cell_type": "code",
      "source": [
        "pipeline_cv(5,X,y,np_random_search)"
      ],
      "metadata": {
        "id": "Vww2NXW1p5Bn"
      },
      "execution_count": null,
      "outputs": []
    },
    {
      "cell_type": "code",
      "source": [
        "X_train, X_test, y_train, y_test = train_test_split(X, y, test_size=0.3)\n",
        "best_model = np_random_search.best_estimator_\n",
        "fit = best_model.fit(X_train,y_train)\n",
        "y_pred = fit.predict(X_test)\n",
        "\n",
        "report = pd.DataFrame(\n",
        "    metrics.classification_report(y_test,y_pred,output_dict=True)\n",
        ")\n",
        "report"
      ],
      "metadata": {
        "id": "vothg5rgp6d4"
      },
      "execution_count": null,
      "outputs": []
    },
    {
      "cell_type": "code",
      "source": [
        "classes = list(report.columns)[:-3]\n",
        "plot_confusion_matrix(y_test,y_pred,classes)"
      ],
      "metadata": {
        "id": "5WTokVNTp8BP"
      },
      "execution_count": null,
      "outputs": []
    },
    {
      "cell_type": "markdown",
      "source": [
        "**Formal Case 3**"
      ],
      "metadata": {
        "id": "F_ZGyaKkqJa5"
      }
    },
    {
      "cell_type": "code",
      "source": [
        "# Now running the full pipeline on the trimmed dataset\n",
        "random_search = RandomizedSearchCV(smote_pipeline,params,cv=5,n_jobs=-1,scoring=scorer,verbose=0)\n",
        "pipeline_cv(5,X,y,random_search)"
      ],
      "metadata": {
        "id": "wtxBhr4pqLbH"
      },
      "execution_count": null,
      "outputs": []
    },
    {
      "cell_type": "code",
      "source": [
        "best_model = random_search.best_estimator_\n",
        "fit = best_model.fit(X_train,y_train)\n",
        "y_pred = fit.predict(X_test)\n",
        "\n",
        "report = pd.DataFrame(\n",
        "    metrics.classification_report(y_test,y_pred,output_dict=True)\n",
        ")\n",
        "report"
      ],
      "metadata": {
        "id": "yezD3NBXqPc3"
      },
      "execution_count": null,
      "outputs": []
    },
    {
      "cell_type": "code",
      "source": [
        "classes = list(report.columns)[:-3]\n",
        "plot_confusion_matrix(y_test,y_pred,classes)"
      ],
      "metadata": {
        "id": "tDfsuEKpqQoY"
      },
      "execution_count": null,
      "outputs": []
    },
    {
      "cell_type": "markdown",
      "source": [
        "**Further experimentation**"
      ],
      "metadata": {
        "id": "SyGTuKfIqVEQ"
      }
    },
    {
      "cell_type": "code",
      "source": [
        "# Logistic Loss Function for SGD Classifier\n",
        "log_params = {\n",
        "    'countvectorizer__ngram_range':[(1,2),(1,3)],\n",
        "    'countvectorizer__max_df':np.linspace(.5,.7,5),\n",
        "    'countvectorizer__min_df':[1,2,3,4],\n",
        "    'tfidftransformer__use_idf':[True],\n",
        "    'tfidftransformer__smooth_idf':[True],\n",
        "    'sgdclassifier__alpha':np.linspace(.00005,.0002),\n",
        "    'sgdclassifier__loss':['log']\n",
        "}\n",
        "\n",
        "random_search = RandomizedSearchCV(smote_pipeline,log_params,cv=5,n_jobs=-1,scoring=scorer,verbose=0)\n",
        "pipeline_cv(5,X,y,random_search)\n",
        "\n",
        "X_train, X_test, y_train, y_test = train_test_split(X, y, test_size=0.3)\n",
        "best_model = random_search.best_estimator_\n",
        "fit = best_model.fit(X_train,y_train)\n",
        "y_pred = fit.predict(X_test)\n",
        "\n",
        "report = pd.DataFrame(\n",
        "    metrics.classification_report(y_test,y_pred,output_dict=True)\n",
        ")\n",
        "report"
      ],
      "metadata": {
        "id": "03x4zxloqXDq"
      },
      "execution_count": null,
      "outputs": []
    },
    {
      "cell_type": "code",
      "source": [
        "classes = list(report.columns)[:-3]\n",
        "plot_confusion_matrix(y_test,y_pred,classes)"
      ],
      "metadata": {
        "id": "pE8nKUJ4qfSX"
      },
      "execution_count": null,
      "outputs": []
    },
    {
      "cell_type": "code",
      "source": [
        "# Full pipeline on full dataset\n",
        "df = pd.read_csv(\"filtered_movies.csv\",index_col=0,)\n",
        "\n",
        "df.reset_index(drop=False,inplace=True)\n",
        "df.rename(mapper={'index':'ID'},axis=1,inplace=True)\n",
        "\n",
        "X = df['Plot']\n",
        "y = df['Genre']\n",
        "\n",
        "random_search = RandomizedSearchCV(smote_pipeline,params,cv=5,n_jobs=-1,scoring=scorer,verbose=0)\n",
        "\n",
        "pipeline_cv(5,X,y,random_search)"
      ],
      "metadata": {
        "id": "GMe1PLNPqneO"
      },
      "execution_count": null,
      "outputs": []
    },
    {
      "cell_type": "code",
      "source": [
        "best_model = random_search.best_estimator_\n",
        "best_model"
      ],
      "metadata": {
        "id": "jsXap9GYqxsv"
      },
      "execution_count": null,
      "outputs": []
    },
    {
      "cell_type": "code",
      "source": [
        "data_set = pd.read_csv('filtered_movies.csv',index_col=0)\n",
        "\n",
        "X = data_set['Plot']\n",
        "y = data_set['Genre']\n",
        "\n",
        "X_train, X_test, y_train, y_test = train_test_split(X, y, test_size=0.33)\n",
        "\n",
        "[data.sort_index(inplace=True) for data in [X_test,X_train,y_test,y_train]]\n",
        "\n",
        "print(X_train.shape, y_train.shape, X_test.shape,y_test.shape)"
      ],
      "metadata": {
        "id": "f5i7LVFnqzH_"
      },
      "execution_count": null,
      "outputs": []
    },
    {
      "cell_type": "code",
      "source": [
        "fit = best_model.fit(X_train,y_train)\n",
        "y_pred = fit.predict(X_test)\n",
        "report = pd.DataFrame(\n",
        "    metrics.classification_report(y_test,y_pred,output_dict=True)\n",
        ")\n",
        "report"
      ],
      "metadata": {
        "id": "bCBiTAi5q0uG"
      },
      "execution_count": null,
      "outputs": []
    },
    {
      "cell_type": "code",
      "source": [
        "classes = list(report.columns)[:-3]\n",
        "plot_confusion_matrix(y_test,y_pred,classes)"
      ],
      "metadata": {
        "id": "AJZisr9oq5cY"
      },
      "execution_count": null,
      "outputs": []
    }
  ]
}